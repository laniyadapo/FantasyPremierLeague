{
 "cells": [
  {
   "cell_type": "markdown",
   "metadata": {},
   "source": [
    "![image](https://user-images.githubusercontent.com/92790663/189541779-82e3ea35-da9c-444d-b5d6-3dfe4456c09c.png)"
   ]
  },
  {
   "cell_type": "markdown",
   "metadata": {},
   "source": [
    "### BUSINESS PROBLEM\n",
    "\n",
    "Approximately two million managers play the Fantasy Premier League (FPL) for 38 game weeks every season. Every game week, the big question on the two million minds is which soccer players will provide maximum ROI throughout the season. A predictive analytics model for weekly ROI from a player is crucial information sought by FPL managers. This project investigates a model based on the historical data of players' performance against their opponents.\n",
    "\n",
    "#### BUSINESS OBJECTIVES\n",
    "- Create a model that predicts points for each player weekly and evaluate the model's accuracy.\n",
    "- Predict and select players with high returns on fantasy points before every game week.\n",
    "- Players comparison using analytics."
   ]
  },
  {
   "cell_type": "markdown",
   "metadata": {},
   "source": [
    "#### DATA SOURCES \n",
    "[Link 1](https://www.fantasynutmeg.com)\n",
    "\n",
    "- This source provides historical data from the 2016 season till the current season. The extracted data contains only data of players with double digits fantasy points across every fixture in respective seasons. There is an opportunity to extract every player's performance for every fixture from 2016 to the current season. This is an issue to resolve as part of the optimization phase of this project.\n",
    "\n",
    "\n",
    "[Link 2](https://fantasy.premierleague.com/api/)\n",
    "\n",
    "- This source is the official FPL API that only contains the data on players’ performance in the current season, players' positions and all the current season fixtures.\n"
   ]
  },
  {
   "cell_type": "markdown",
   "metadata": {},
   "source": [
    "#### PERFORMANCE METRICS\n",
    "- Accuracy.\n",
    "- R-Squared ($R^2$) score (Coefficient of determination).\n",
    "- RMSE (Root Mean Squared Error)."
   ]
  },
  {
   "cell_type": "markdown",
   "metadata": {},
   "source": [
    "### IMPORT NECESSARY LIBRARIES"
   ]
  },
  {
   "cell_type": "code",
   "execution_count": 1,
   "metadata": {},
   "outputs": [],
   "source": [
    "import os\n",
    "import pickle\n",
    "import requests\n",
    "import numpy as np\n",
    "import pandas as pd\n",
    "import matplotlib.pyplot as plt\n",
    "\n",
    "# sklearn\n",
    "from sklearn.svm import SVR\n",
    "from sklearn import linear_model\n",
    "from sklearn.linear_model import LassoCV\n",
    "from sklearn.linear_model import RidgeCV\n",
    "from sklearn.linear_model import SGDRegressor\n",
    "from sklearn.tree import DecisionTreeRegressor\n",
    "from sklearn.linear_model import LinearRegression\n",
    "from sklearn.ensemble import RandomForestRegressor\n",
    "from sklearn.model_selection import TimeSeriesSplit\n",
    "from sklearn.model_selection import train_test_split\n",
    "from sklearn.feature_extraction import DictVectorizer\n",
    "from sklearn.ensemble import GradientBoostingRegressor\n",
    "from sklearn.metrics import r2_score, mean_squared_error\n",
    "from sklearn.preprocessing import MinMaxScaler, StandardScaler\n",
    "\n",
    "# statsmodels\n",
    "from statsmodels.tsa.seasonal import seasonal_decompose\n",
    "from statsmodels.stats.outliers_influence import variance_inflation_factor"
   ]
  },
  {
   "cell_type": "markdown",
   "metadata": {},
   "source": [
    "### ACCESSING DATA"
   ]
  },
  {
   "cell_type": "code",
   "execution_count": 2,
   "metadata": {},
   "outputs": [
    {
     "name": "stderr",
     "output_type": "stream",
     "text": [
      "/tmp/ipykernel_1648/1029439869.py:2: DtypeWarning: Columns (4) have mixed types. Specify dtype option on import or set low_memory=False.\n",
      "  df_allseasons = pd.read_csv('cleaned_merged_seasons.csv', index_col = 'Unnamed: 0')\n"
     ]
    },
    {
     "data": {
      "text/html": [
       "<div>\n",
       "<style scoped>\n",
       "    .dataframe tbody tr th:only-of-type {\n",
       "        vertical-align: middle;\n",
       "    }\n",
       "\n",
       "    .dataframe tbody tr th {\n",
       "        vertical-align: top;\n",
       "    }\n",
       "\n",
       "    .dataframe thead th {\n",
       "        text-align: right;\n",
       "    }\n",
       "</style>\n",
       "<table border=\"1\" class=\"dataframe\">\n",
       "  <thead>\n",
       "    <tr style=\"text-align: right;\">\n",
       "      <th></th>\n",
       "      <th>season_x</th>\n",
       "      <th>name</th>\n",
       "      <th>position</th>\n",
       "      <th>team_x</th>\n",
       "      <th>assists</th>\n",
       "      <th>bonus</th>\n",
       "      <th>bps</th>\n",
       "      <th>clean_sheets</th>\n",
       "      <th>creativity</th>\n",
       "      <th>element</th>\n",
       "      <th>...</th>\n",
       "      <th>team_h_score</th>\n",
       "      <th>threat</th>\n",
       "      <th>total_points</th>\n",
       "      <th>transfers_balance</th>\n",
       "      <th>transfers_in</th>\n",
       "      <th>transfers_out</th>\n",
       "      <th>value</th>\n",
       "      <th>was_home</th>\n",
       "      <th>yellow_cards</th>\n",
       "      <th>GW</th>\n",
       "    </tr>\n",
       "  </thead>\n",
       "  <tbody>\n",
       "    <tr>\n",
       "      <th>0</th>\n",
       "      <td>2016-17</td>\n",
       "      <td>Aaron Cresswell</td>\n",
       "      <td>DEF</td>\n",
       "      <td>NaN</td>\n",
       "      <td>0</td>\n",
       "      <td>0</td>\n",
       "      <td>0</td>\n",
       "      <td>0</td>\n",
       "      <td>0.0</td>\n",
       "      <td>454</td>\n",
       "      <td>...</td>\n",
       "      <td>2.0</td>\n",
       "      <td>0.0</td>\n",
       "      <td>0</td>\n",
       "      <td>0</td>\n",
       "      <td>0</td>\n",
       "      <td>0</td>\n",
       "      <td>55</td>\n",
       "      <td>False</td>\n",
       "      <td>0</td>\n",
       "      <td>1</td>\n",
       "    </tr>\n",
       "    <tr>\n",
       "      <th>1</th>\n",
       "      <td>2016-17</td>\n",
       "      <td>Aaron Lennon</td>\n",
       "      <td>MID</td>\n",
       "      <td>NaN</td>\n",
       "      <td>0</td>\n",
       "      <td>0</td>\n",
       "      <td>6</td>\n",
       "      <td>0</td>\n",
       "      <td>0.3</td>\n",
       "      <td>142</td>\n",
       "      <td>...</td>\n",
       "      <td>1.0</td>\n",
       "      <td>0.0</td>\n",
       "      <td>1</td>\n",
       "      <td>0</td>\n",
       "      <td>0</td>\n",
       "      <td>0</td>\n",
       "      <td>60</td>\n",
       "      <td>True</td>\n",
       "      <td>0</td>\n",
       "      <td>1</td>\n",
       "    </tr>\n",
       "    <tr>\n",
       "      <th>2</th>\n",
       "      <td>2016-17</td>\n",
       "      <td>Aaron Ramsey</td>\n",
       "      <td>MID</td>\n",
       "      <td>NaN</td>\n",
       "      <td>0</td>\n",
       "      <td>0</td>\n",
       "      <td>5</td>\n",
       "      <td>0</td>\n",
       "      <td>4.9</td>\n",
       "      <td>16</td>\n",
       "      <td>...</td>\n",
       "      <td>3.0</td>\n",
       "      <td>23.0</td>\n",
       "      <td>2</td>\n",
       "      <td>0</td>\n",
       "      <td>0</td>\n",
       "      <td>0</td>\n",
       "      <td>80</td>\n",
       "      <td>True</td>\n",
       "      <td>0</td>\n",
       "      <td>1</td>\n",
       "    </tr>\n",
       "    <tr>\n",
       "      <th>3</th>\n",
       "      <td>2016-17</td>\n",
       "      <td>Abdoulaye Doucouré</td>\n",
       "      <td>MID</td>\n",
       "      <td>NaN</td>\n",
       "      <td>0</td>\n",
       "      <td>0</td>\n",
       "      <td>0</td>\n",
       "      <td>0</td>\n",
       "      <td>0.0</td>\n",
       "      <td>482</td>\n",
       "      <td>...</td>\n",
       "      <td>1.0</td>\n",
       "      <td>0.0</td>\n",
       "      <td>0</td>\n",
       "      <td>0</td>\n",
       "      <td>0</td>\n",
       "      <td>0</td>\n",
       "      <td>50</td>\n",
       "      <td>False</td>\n",
       "      <td>0</td>\n",
       "      <td>1</td>\n",
       "    </tr>\n",
       "    <tr>\n",
       "      <th>4</th>\n",
       "      <td>2016-17</td>\n",
       "      <td>Adam Forshaw</td>\n",
       "      <td>MID</td>\n",
       "      <td>NaN</td>\n",
       "      <td>0</td>\n",
       "      <td>0</td>\n",
       "      <td>3</td>\n",
       "      <td>0</td>\n",
       "      <td>1.3</td>\n",
       "      <td>286</td>\n",
       "      <td>...</td>\n",
       "      <td>1.0</td>\n",
       "      <td>0.0</td>\n",
       "      <td>1</td>\n",
       "      <td>0</td>\n",
       "      <td>0</td>\n",
       "      <td>0</td>\n",
       "      <td>45</td>\n",
       "      <td>True</td>\n",
       "      <td>1</td>\n",
       "      <td>1</td>\n",
       "    </tr>\n",
       "  </tbody>\n",
       "</table>\n",
       "<p>5 rows × 37 columns</p>\n",
       "</div>"
      ],
      "text/plain": [
       "  season_x                name position team_x  assists  bonus  bps  \\\n",
       "0  2016-17     Aaron Cresswell      DEF    NaN        0      0    0   \n",
       "1  2016-17        Aaron Lennon      MID    NaN        0      0    6   \n",
       "2  2016-17        Aaron Ramsey      MID    NaN        0      0    5   \n",
       "3  2016-17  Abdoulaye Doucouré      MID    NaN        0      0    0   \n",
       "4  2016-17        Adam Forshaw      MID    NaN        0      0    3   \n",
       "\n",
       "   clean_sheets  creativity  element  ...  team_h_score  threat  total_points  \\\n",
       "0             0         0.0      454  ...           2.0     0.0             0   \n",
       "1             0         0.3      142  ...           1.0     0.0             1   \n",
       "2             0         4.9       16  ...           3.0    23.0             2   \n",
       "3             0         0.0      482  ...           1.0     0.0             0   \n",
       "4             0         1.3      286  ...           1.0     0.0             1   \n",
       "\n",
       "   transfers_balance  transfers_in transfers_out  value  was_home  \\\n",
       "0                  0             0             0     55     False   \n",
       "1                  0             0             0     60      True   \n",
       "2                  0             0             0     80      True   \n",
       "3                  0             0             0     50     False   \n",
       "4                  0             0             0     45      True   \n",
       "\n",
       "  yellow_cards  GW  \n",
       "0            0   1  \n",
       "1            0   1  \n",
       "2            0   1  \n",
       "3            0   1  \n",
       "4            1   1  \n",
       "\n",
       "[5 rows x 37 columns]"
      ]
     },
     "execution_count": 2,
     "metadata": {},
     "output_type": "execute_result"
    }
   ],
   "source": [
    "# Read data.\n",
    "df_allseasons = pd.read_csv('cleaned_merged_seasons.csv', index_col = 'Unnamed: 0')\n",
    "df_allseasons.head()"
   ]
  },
  {
   "cell_type": "code",
   "execution_count": 3,
   "metadata": {},
   "outputs": [
    {
     "data": {
      "text/plain": [
       "Index(['season_x', 'name', 'position', 'team_x', 'assists', 'bonus', 'bps',\n",
       "       'clean_sheets', 'creativity', 'element', 'fixture', 'goals_conceded',\n",
       "       'goals_scored', 'ict_index', 'influence', 'kickoff_time', 'minutes',\n",
       "       'opponent_team', 'opp_team_name', 'own_goals', 'penalties_missed',\n",
       "       'penalties_saved', 'red_cards', 'round', 'saves', 'selected',\n",
       "       'team_a_score', 'team_h_score', 'threat', 'total_points',\n",
       "       'transfers_balance', 'transfers_in', 'transfers_out', 'value',\n",
       "       'was_home', 'yellow_cards', 'GW'],\n",
       "      dtype='object')"
      ]
     },
     "execution_count": 3,
     "metadata": {},
     "output_type": "execute_result"
    }
   ],
   "source": [
    "# Print all columns.\n",
    "df_allseasons.columns"
   ]
  },
  {
   "cell_type": "code",
   "execution_count": 4,
   "metadata": {},
   "outputs": [
    {
     "name": "stdout",
     "output_type": "stream",
     "text": [
      "<class 'pandas.core.frame.DataFrame'>\n",
      "Int64Index: 98402 entries, 0 to 98401\n",
      "Data columns (total 37 columns):\n",
      " #   Column             Non-Null Count  Dtype  \n",
      "---  ------             --------------  -----  \n",
      " 0   season_x           98402 non-null  object \n",
      " 1   name               98402 non-null  object \n",
      " 2   position           98402 non-null  object \n",
      " 3   team_x             48930 non-null  object \n",
      " 4   assists            98402 non-null  int64  \n",
      " 5   bonus              98402 non-null  int64  \n",
      " 6   bps                98402 non-null  int64  \n",
      " 7   clean_sheets       98402 non-null  int64  \n",
      " 8   creativity         98402 non-null  float64\n",
      " 9   element            98402 non-null  int64  \n",
      " 10  fixture            98402 non-null  int64  \n",
      " 11  goals_conceded     98402 non-null  int64  \n",
      " 12  goals_scored       98402 non-null  int64  \n",
      " 13  ict_index          98402 non-null  float64\n",
      " 14  influence          98402 non-null  float64\n",
      " 15  kickoff_time       98402 non-null  object \n",
      " 16  minutes            98402 non-null  int64  \n",
      " 17  opponent_team      98402 non-null  int64  \n",
      " 18  opp_team_name      98402 non-null  object \n",
      " 19  own_goals          98402 non-null  int64  \n",
      " 20  penalties_missed   98402 non-null  int64  \n",
      " 21  penalties_saved    98402 non-null  int64  \n",
      " 22  red_cards          98402 non-null  int64  \n",
      " 23  round              98402 non-null  int64  \n",
      " 24  saves              98402 non-null  int64  \n",
      " 25  selected           98402 non-null  int64  \n",
      " 26  team_a_score       98353 non-null  float64\n",
      " 27  team_h_score       98353 non-null  float64\n",
      " 28  threat             98402 non-null  float64\n",
      " 29  total_points       98402 non-null  int64  \n",
      " 30  transfers_balance  98402 non-null  int64  \n",
      " 31  transfers_in       98402 non-null  int64  \n",
      " 32  transfers_out      98402 non-null  int64  \n",
      " 33  value              98402 non-null  int64  \n",
      " 34  was_home           98402 non-null  bool   \n",
      " 35  yellow_cards       98402 non-null  int64  \n",
      " 36  GW                 98402 non-null  int64  \n",
      "dtypes: bool(1), float64(6), int64(24), object(6)\n",
      "memory usage: 27.9+ MB\n"
     ]
    }
   ],
   "source": [
    "# Descriptive information on features.\n",
    "df_allseasons.info()"
   ]
  },
  {
   "cell_type": "code",
   "execution_count": 5,
   "metadata": {},
   "outputs": [
    {
     "data": {
      "text/plain": [
       "True"
      ]
     },
     "execution_count": 5,
     "metadata": {},
     "output_type": "execute_result"
    }
   ],
   "source": [
    "# Check for any missing values.\n",
    "df_allseasons.isnull().values.any()"
   ]
  },
  {
   "cell_type": "code",
   "execution_count": 6,
   "metadata": {},
   "outputs": [
    {
     "data": {
      "text/plain": [
       "season_x                 0\n",
       "name                     0\n",
       "position                 0\n",
       "team_x               49472\n",
       "assists                  0\n",
       "bonus                    0\n",
       "bps                      0\n",
       "clean_sheets             0\n",
       "creativity               0\n",
       "element                  0\n",
       "fixture                  0\n",
       "goals_conceded           0\n",
       "goals_scored             0\n",
       "ict_index                0\n",
       "influence                0\n",
       "kickoff_time             0\n",
       "minutes                  0\n",
       "opponent_team            0\n",
       "opp_team_name            0\n",
       "own_goals                0\n",
       "penalties_missed         0\n",
       "penalties_saved          0\n",
       "red_cards                0\n",
       "round                    0\n",
       "saves                    0\n",
       "selected                 0\n",
       "team_a_score            49\n",
       "team_h_score            49\n",
       "threat                   0\n",
       "total_points             0\n",
       "transfers_balance        0\n",
       "transfers_in             0\n",
       "transfers_out            0\n",
       "value                    0\n",
       "was_home                 0\n",
       "yellow_cards             0\n",
       "GW                       0\n",
       "dtype: int64"
      ]
     },
     "execution_count": 6,
     "metadata": {},
     "output_type": "execute_result"
    }
   ],
   "source": [
    "# Check missing values for each feature.\n",
    "df_allseasons.isna().sum()"
   ]
  },
  {
   "cell_type": "code",
   "execution_count": 7,
   "metadata": {},
   "outputs": [
    {
     "data": {
      "text/plain": [
       "0                NaN\n",
       "1                NaN\n",
       "2                NaN\n",
       "3                NaN\n",
       "4                NaN\n",
       "            ...     \n",
       "98397      Leicester\n",
       "98398      Newcastle\n",
       "98399    Southampton\n",
       "98400       Brighton\n",
       "98401       West Ham\n",
       "Name: team_x, Length: 98402, dtype: object"
      ]
     },
     "execution_count": 7,
     "metadata": {},
     "output_type": "execute_result"
    }
   ],
   "source": [
    "df_allseasons.team_x"
   ]
  },
  {
   "cell_type": "code",
   "execution_count": 8,
   "metadata": {},
   "outputs": [
    {
     "data": {
      "text/plain": [
       "False    98402\n",
       "dtype: int64"
      ]
     },
     "execution_count": 8,
     "metadata": {},
     "output_type": "execute_result"
    }
   ],
   "source": [
    "# Check for duplicates on each row.\n",
    "df_allseasons.duplicated().value_counts()"
   ]
  },
  {
   "cell_type": "code",
   "execution_count": 9,
   "metadata": {},
   "outputs": [
    {
     "data": {
      "text/plain": [
       "season_x                 6\n",
       "name                   989\n",
       "position                 4\n",
       "team_x                  23\n",
       "assists                  5\n",
       "bonus                    4\n",
       "bps                    113\n",
       "clean_sheets             2\n",
       "creativity             860\n",
       "element                737\n",
       "fixture                380\n",
       "goals_conceded          10\n",
       "goals_scored             5\n",
       "ict_index              273\n",
       "influence              528\n",
       "kickoff_time          1428\n",
       "minutes                 91\n",
       "opponent_team           20\n",
       "opp_team_name           31\n",
       "own_goals                2\n",
       "penalties_missed         2\n",
       "penalties_saved          3\n",
       "red_cards                2\n",
       "round                   47\n",
       "saves                   14\n",
       "selected             65713\n",
       "team_a_score             9\n",
       "team_h_score            10\n",
       "threat                 149\n",
       "total_points            31\n",
       "transfers_balance    32217\n",
       "transfers_in         24344\n",
       "transfers_out        26734\n",
       "value                  100\n",
       "was_home                 2\n",
       "yellow_cards             2\n",
       "GW                      47\n",
       "dtype: int64"
      ]
     },
     "execution_count": 9,
     "metadata": {},
     "output_type": "execute_result"
    }
   ],
   "source": [
    "# Check for unique values.\n",
    "df_allseasons.nunique()"
   ]
  },
  {
   "cell_type": "code",
   "execution_count": 10,
   "metadata": {},
   "outputs": [
    {
     "data": {
      "text/html": [
       "<div>\n",
       "<style scoped>\n",
       "    .dataframe tbody tr th:only-of-type {\n",
       "        vertical-align: middle;\n",
       "    }\n",
       "\n",
       "    .dataframe tbody tr th {\n",
       "        vertical-align: top;\n",
       "    }\n",
       "\n",
       "    .dataframe thead th {\n",
       "        text-align: right;\n",
       "    }\n",
       "</style>\n",
       "<table border=\"1\" class=\"dataframe\">\n",
       "  <thead>\n",
       "    <tr style=\"text-align: right;\">\n",
       "      <th></th>\n",
       "      <th>assists</th>\n",
       "      <th>bonus</th>\n",
       "      <th>bps</th>\n",
       "      <th>clean_sheets</th>\n",
       "      <th>creativity</th>\n",
       "      <th>element</th>\n",
       "      <th>fixture</th>\n",
       "      <th>goals_conceded</th>\n",
       "      <th>goals_scored</th>\n",
       "      <th>ict_index</th>\n",
       "      <th>...</th>\n",
       "      <th>team_a_score</th>\n",
       "      <th>team_h_score</th>\n",
       "      <th>threat</th>\n",
       "      <th>total_points</th>\n",
       "      <th>transfers_balance</th>\n",
       "      <th>transfers_in</th>\n",
       "      <th>transfers_out</th>\n",
       "      <th>value</th>\n",
       "      <th>yellow_cards</th>\n",
       "      <th>GW</th>\n",
       "    </tr>\n",
       "  </thead>\n",
       "  <tbody>\n",
       "    <tr>\n",
       "      <th>count</th>\n",
       "      <td>98402.000000</td>\n",
       "      <td>98402.000000</td>\n",
       "      <td>98402.000000</td>\n",
       "      <td>98402.000000</td>\n",
       "      <td>98402.000000</td>\n",
       "      <td>98402.000000</td>\n",
       "      <td>98402.000000</td>\n",
       "      <td>98402.000000</td>\n",
       "      <td>98402.000000</td>\n",
       "      <td>98402.000000</td>\n",
       "      <td>...</td>\n",
       "      <td>98353.000000</td>\n",
       "      <td>98353.000000</td>\n",
       "      <td>98402.000000</td>\n",
       "      <td>98402.000000</td>\n",
       "      <td>9.840200e+04</td>\n",
       "      <td>9.840200e+04</td>\n",
       "      <td>9.840200e+04</td>\n",
       "      <td>98402.000000</td>\n",
       "      <td>98402.000000</td>\n",
       "      <td>98402.000000</td>\n",
       "    </tr>\n",
       "    <tr>\n",
       "      <th>mean</th>\n",
       "      <td>0.045873</td>\n",
       "      <td>0.122599</td>\n",
       "      <td>6.825359</td>\n",
       "      <td>0.120993</td>\n",
       "      <td>5.352928</td>\n",
       "      <td>311.321701</td>\n",
       "      <td>196.188248</td>\n",
       "      <td>0.542845</td>\n",
       "      <td>0.051279</td>\n",
       "      <td>1.963898</td>\n",
       "      <td>...</td>\n",
       "      <td>1.262097</td>\n",
       "      <td>1.491708</td>\n",
       "      <td>6.127121</td>\n",
       "      <td>1.541798</td>\n",
       "      <td>1.318144e+03</td>\n",
       "      <td>1.395050e+04</td>\n",
       "      <td>1.263175e+04</td>\n",
       "      <td>52.496870</td>\n",
       "      <td>0.057814</td>\n",
       "      <td>20.718309</td>\n",
       "    </tr>\n",
       "    <tr>\n",
       "      <th>std</th>\n",
       "      <td>0.227680</td>\n",
       "      <td>0.520794</td>\n",
       "      <td>10.252218</td>\n",
       "      <td>0.326121</td>\n",
       "      <td>11.305636</td>\n",
       "      <td>181.148434</td>\n",
       "      <td>108.663200</td>\n",
       "      <td>0.995002</td>\n",
       "      <td>0.247819</td>\n",
       "      <td>3.218001</td>\n",
       "      <td>...</td>\n",
       "      <td>1.224245</td>\n",
       "      <td>1.310472</td>\n",
       "      <td>14.476371</td>\n",
       "      <td>2.658725</td>\n",
       "      <td>5.859415e+04</td>\n",
       "      <td>5.034220e+04</td>\n",
       "      <td>4.287093e+04</td>\n",
       "      <td>13.123029</td>\n",
       "      <td>0.233392</td>\n",
       "      <td>11.605966</td>\n",
       "    </tr>\n",
       "    <tr>\n",
       "      <th>min</th>\n",
       "      <td>0.000000</td>\n",
       "      <td>0.000000</td>\n",
       "      <td>-18.000000</td>\n",
       "      <td>0.000000</td>\n",
       "      <td>0.000000</td>\n",
       "      <td>1.000000</td>\n",
       "      <td>1.000000</td>\n",
       "      <td>0.000000</td>\n",
       "      <td>0.000000</td>\n",
       "      <td>0.000000</td>\n",
       "      <td>...</td>\n",
       "      <td>0.000000</td>\n",
       "      <td>0.000000</td>\n",
       "      <td>0.000000</td>\n",
       "      <td>-7.000000</td>\n",
       "      <td>-1.857821e+06</td>\n",
       "      <td>0.000000e+00</td>\n",
       "      <td>0.000000e+00</td>\n",
       "      <td>37.000000</td>\n",
       "      <td>0.000000</td>\n",
       "      <td>1.000000</td>\n",
       "    </tr>\n",
       "    <tr>\n",
       "      <th>25%</th>\n",
       "      <td>0.000000</td>\n",
       "      <td>0.000000</td>\n",
       "      <td>0.000000</td>\n",
       "      <td>0.000000</td>\n",
       "      <td>0.000000</td>\n",
       "      <td>157.000000</td>\n",
       "      <td>103.000000</td>\n",
       "      <td>0.000000</td>\n",
       "      <td>0.000000</td>\n",
       "      <td>0.000000</td>\n",
       "      <td>...</td>\n",
       "      <td>0.000000</td>\n",
       "      <td>1.000000</td>\n",
       "      <td>0.000000</td>\n",
       "      <td>0.000000</td>\n",
       "      <td>-1.721000e+03</td>\n",
       "      <td>6.400000e+01</td>\n",
       "      <td>1.850000e+02</td>\n",
       "      <td>45.000000</td>\n",
       "      <td>0.000000</td>\n",
       "      <td>11.000000</td>\n",
       "    </tr>\n",
       "    <tr>\n",
       "      <th>50%</th>\n",
       "      <td>0.000000</td>\n",
       "      <td>0.000000</td>\n",
       "      <td>0.000000</td>\n",
       "      <td>0.000000</td>\n",
       "      <td>0.000000</td>\n",
       "      <td>306.000000</td>\n",
       "      <td>200.000000</td>\n",
       "      <td>0.000000</td>\n",
       "      <td>0.000000</td>\n",
       "      <td>0.000000</td>\n",
       "      <td>...</td>\n",
       "      <td>1.000000</td>\n",
       "      <td>1.000000</td>\n",
       "      <td>0.000000</td>\n",
       "      <td>0.000000</td>\n",
       "      <td>-7.800000e+01</td>\n",
       "      <td>5.870000e+02</td>\n",
       "      <td>1.422000e+03</td>\n",
       "      <td>49.000000</td>\n",
       "      <td>0.000000</td>\n",
       "      <td>21.000000</td>\n",
       "    </tr>\n",
       "    <tr>\n",
       "      <th>75%</th>\n",
       "      <td>0.000000</td>\n",
       "      <td>0.000000</td>\n",
       "      <td>12.000000</td>\n",
       "      <td>0.000000</td>\n",
       "      <td>3.900000</td>\n",
       "      <td>459.000000</td>\n",
       "      <td>290.000000</td>\n",
       "      <td>1.000000</td>\n",
       "      <td>0.000000</td>\n",
       "      <td>2.900000</td>\n",
       "      <td>...</td>\n",
       "      <td>2.000000</td>\n",
       "      <td>2.000000</td>\n",
       "      <td>4.000000</td>\n",
       "      <td>2.000000</td>\n",
       "      <td>1.440000e+02</td>\n",
       "      <td>5.894000e+03</td>\n",
       "      <td>8.614750e+03</td>\n",
       "      <td>55.000000</td>\n",
       "      <td>0.000000</td>\n",
       "      <td>30.000000</td>\n",
       "    </tr>\n",
       "    <tr>\n",
       "      <th>max</th>\n",
       "      <td>4.000000</td>\n",
       "      <td>3.000000</td>\n",
       "      <td>128.000000</td>\n",
       "      <td>1.000000</td>\n",
       "      <td>170.900000</td>\n",
       "      <td>737.000000</td>\n",
       "      <td>380.000000</td>\n",
       "      <td>9.000000</td>\n",
       "      <td>4.000000</td>\n",
       "      <td>35.800000</td>\n",
       "      <td>...</td>\n",
       "      <td>9.000000</td>\n",
       "      <td>9.000000</td>\n",
       "      <td>186.000000</td>\n",
       "      <td>29.000000</td>\n",
       "      <td>1.983733e+06</td>\n",
       "      <td>2.104464e+06</td>\n",
       "      <td>1.872898e+06</td>\n",
       "      <td>136.000000</td>\n",
       "      <td>1.000000</td>\n",
       "      <td>47.000000</td>\n",
       "    </tr>\n",
       "  </tbody>\n",
       "</table>\n",
       "<p>8 rows × 30 columns</p>\n",
       "</div>"
      ],
      "text/plain": [
       "            assists         bonus           bps  clean_sheets    creativity  \\\n",
       "count  98402.000000  98402.000000  98402.000000  98402.000000  98402.000000   \n",
       "mean       0.045873      0.122599      6.825359      0.120993      5.352928   \n",
       "std        0.227680      0.520794     10.252218      0.326121     11.305636   \n",
       "min        0.000000      0.000000    -18.000000      0.000000      0.000000   \n",
       "25%        0.000000      0.000000      0.000000      0.000000      0.000000   \n",
       "50%        0.000000      0.000000      0.000000      0.000000      0.000000   \n",
       "75%        0.000000      0.000000     12.000000      0.000000      3.900000   \n",
       "max        4.000000      3.000000    128.000000      1.000000    170.900000   \n",
       "\n",
       "            element       fixture  goals_conceded  goals_scored     ict_index  \\\n",
       "count  98402.000000  98402.000000    98402.000000  98402.000000  98402.000000   \n",
       "mean     311.321701    196.188248        0.542845      0.051279      1.963898   \n",
       "std      181.148434    108.663200        0.995002      0.247819      3.218001   \n",
       "min        1.000000      1.000000        0.000000      0.000000      0.000000   \n",
       "25%      157.000000    103.000000        0.000000      0.000000      0.000000   \n",
       "50%      306.000000    200.000000        0.000000      0.000000      0.000000   \n",
       "75%      459.000000    290.000000        1.000000      0.000000      2.900000   \n",
       "max      737.000000    380.000000        9.000000      4.000000     35.800000   \n",
       "\n",
       "       ...  team_a_score  team_h_score        threat  total_points  \\\n",
       "count  ...  98353.000000  98353.000000  98402.000000  98402.000000   \n",
       "mean   ...      1.262097      1.491708      6.127121      1.541798   \n",
       "std    ...      1.224245      1.310472     14.476371      2.658725   \n",
       "min    ...      0.000000      0.000000      0.000000     -7.000000   \n",
       "25%    ...      0.000000      1.000000      0.000000      0.000000   \n",
       "50%    ...      1.000000      1.000000      0.000000      0.000000   \n",
       "75%    ...      2.000000      2.000000      4.000000      2.000000   \n",
       "max    ...      9.000000      9.000000    186.000000     29.000000   \n",
       "\n",
       "       transfers_balance  transfers_in  transfers_out         value  \\\n",
       "count       9.840200e+04  9.840200e+04   9.840200e+04  98402.000000   \n",
       "mean        1.318144e+03  1.395050e+04   1.263175e+04     52.496870   \n",
       "std         5.859415e+04  5.034220e+04   4.287093e+04     13.123029   \n",
       "min        -1.857821e+06  0.000000e+00   0.000000e+00     37.000000   \n",
       "25%        -1.721000e+03  6.400000e+01   1.850000e+02     45.000000   \n",
       "50%        -7.800000e+01  5.870000e+02   1.422000e+03     49.000000   \n",
       "75%         1.440000e+02  5.894000e+03   8.614750e+03     55.000000   \n",
       "max         1.983733e+06  2.104464e+06   1.872898e+06    136.000000   \n",
       "\n",
       "       yellow_cards            GW  \n",
       "count  98402.000000  98402.000000  \n",
       "mean       0.057814     20.718309  \n",
       "std        0.233392     11.605966  \n",
       "min        0.000000      1.000000  \n",
       "25%        0.000000     11.000000  \n",
       "50%        0.000000     21.000000  \n",
       "75%        0.000000     30.000000  \n",
       "max        1.000000     47.000000  \n",
       "\n",
       "[8 rows x 30 columns]"
      ]
     },
     "execution_count": 10,
     "metadata": {},
     "output_type": "execute_result"
    }
   ],
   "source": [
    "# Descriptive statistics.\n",
    "df_allseasons.describe()"
   ]
  },
  {
   "cell_type": "markdown",
   "metadata": {},
   "source": [
    "#### Observation\n",
    "- Some records are missing.\n",
    "- No duplicate observation."
   ]
  },
  {
   "cell_type": "markdown",
   "metadata": {},
   "source": [
    "#### FEATURE ENGINEERING"
   ]
  },
  {
   "cell_type": "code",
   "execution_count": 11,
   "metadata": {},
   "outputs": [],
   "source": [
    "# Make a copy of the original piece of data.\n",
    "df_allseasons_clean = df_allseasons.copy()"
   ]
  },
  {
   "cell_type": "markdown",
   "metadata": {},
   "source": [
    "> To engineer two new features named `club_name` and `form`, we collect data from the `fantasynutmeg` API (Link 1 in the business problem statement), compare the columns of the collected data with the `df_allseasons` dataframe and extract the features highlighted above."
   ]
  },
  {
   "cell_type": "code",
   "execution_count": 12,
   "metadata": {},
   "outputs": [
    {
     "data": {
      "text/plain": [
       "dict_keys(['dd_agg_fixture', 'dd_agg_player', 'dd_hauls', 'history'])"
      ]
     },
     "execution_count": 12,
     "metadata": {},
     "output_type": "execute_result"
    }
   ],
   "source": [
    "# Get yearly historic data from endpoint for available seasons and identify the keys in each disctionary using 2016 as an example.\n",
    "Y2016= requests.get('https://www.fantasynutmeg.com/api/history/season/2016-17').json()\n",
    "Y2017= requests.get('https://www.fantasynutmeg.com/api/history/season/2017-18').json()\n",
    "Y2018= requests.get('https://www.fantasynutmeg.com/api/history/season/2018-19').json()\n",
    "Y2019= requests.get('https://www.fantasynutmeg.com/api/history/season/2019-20').json()\n",
    "Y2020= requests.get('https://www.fantasynutmeg.com/api/history/season/2020-21').json()\n",
    "Y2021= requests.get('https://www.fantasynutmeg.com/api/history/season/2021-22').json()\n",
    "Y2022= requests.get('https://www.fantasynutmeg.com/api/history/season/2022-23').json()\n",
    "\n",
    "Y2016.keys()"
   ]
  },
  {
   "cell_type": "code",
   "execution_count": 13,
   "metadata": {},
   "outputs": [],
   "source": [
    "# Convert history data dictionary to a pandas dataframe.\n",
    "hist16_df = pd.DataFrame(Y2016['history'])\n",
    "hist17_df = pd.DataFrame(Y2017['history'])\n",
    "hist18_df = pd.DataFrame(Y2018['history'])\n",
    "hist19_df = pd.DataFrame(Y2019['history'])\n",
    "hist20_df = pd.DataFrame(Y2020['history'])\n",
    "hist21_df = pd.DataFrame(Y2021['history'])"
   ]
  },
  {
   "cell_type": "code",
   "execution_count": 14,
   "metadata": {},
   "outputs": [],
   "source": [
    "# Engineer feature to highlight each season year.\n",
    "hist16_df['year'] = hist16_df.apply(lambda x: \"2016-17\", axis=1)\n",
    "hist17_df['year'] = hist17_df.apply(lambda x: \"2017-18\", axis=1)\n",
    "hist18_df['year'] = hist18_df.apply(lambda x: \"2018-19\", axis=1)\n",
    "hist19_df['year'] = hist19_df.apply(lambda x: \"2019-20\", axis=1)\n",
    "hist20_df['year'] = hist20_df.apply(lambda x: \"2020-21\", axis=1)\n",
    "hist21_df['year'] = hist21_df.apply(lambda x: \"2021-22\", axis=1)"
   ]
  },
  {
   "cell_type": "code",
   "execution_count": 15,
   "metadata": {},
   "outputs": [],
   "source": [
    "# Concatenate all history data across years.\n",
    "hist_df = [hist16_df, hist17_df, hist18_df, hist19_df, hist20_df, hist21_df]\n",
    "\n",
    "hist = pd.concat(hist_df, axis = 0, ignore_index=True)"
   ]
  },
  {
   "cell_type": "code",
   "execution_count": 16,
   "metadata": {},
   "outputs": [
    {
     "data": {
      "text/html": [
       "<div>\n",
       "<style scoped>\n",
       "    .dataframe tbody tr th:only-of-type {\n",
       "        vertical-align: middle;\n",
       "    }\n",
       "\n",
       "    .dataframe tbody tr th {\n",
       "        vertical-align: top;\n",
       "    }\n",
       "\n",
       "    .dataframe thead th {\n",
       "        text-align: right;\n",
       "    }\n",
       "</style>\n",
       "<table border=\"1\" class=\"dataframe\">\n",
       "  <thead>\n",
       "    <tr style=\"text-align: right;\">\n",
       "      <th></th>\n",
       "      <th>assists</th>\n",
       "      <th>bonus</th>\n",
       "      <th>bps</th>\n",
       "      <th>chance_of_playing_next_round</th>\n",
       "      <th>chance_of_playing_this_round</th>\n",
       "      <th>clean_sheets</th>\n",
       "      <th>code</th>\n",
       "      <th>cost_change_event</th>\n",
       "      <th>cost_change_event_fall</th>\n",
       "      <th>cost_change_start</th>\n",
       "      <th>...</th>\n",
       "      <th>influence_rank</th>\n",
       "      <th>influence_rank_type</th>\n",
       "      <th>threat_rank</th>\n",
       "      <th>threat_rank_type</th>\n",
       "      <th>corners_and_indirect_freekicks_order</th>\n",
       "      <th>corners_and_indirect_freekicks_text</th>\n",
       "      <th>direct_freekicks_order</th>\n",
       "      <th>direct_freekicks_text</th>\n",
       "      <th>penalties_order</th>\n",
       "      <th>penalties_text</th>\n",
       "    </tr>\n",
       "  </thead>\n",
       "  <tbody>\n",
       "    <tr>\n",
       "      <th>0</th>\n",
       "      <td>0</td>\n",
       "      <td>0</td>\n",
       "      <td>18</td>\n",
       "      <td>100</td>\n",
       "      <td>100</td>\n",
       "      <td>0</td>\n",
       "      <td>48844</td>\n",
       "      <td>0</td>\n",
       "      <td>0</td>\n",
       "      <td>-3</td>\n",
       "      <td>...</td>\n",
       "      <td>NaN</td>\n",
       "      <td>NaN</td>\n",
       "      <td>NaN</td>\n",
       "      <td>NaN</td>\n",
       "      <td>NaN</td>\n",
       "      <td>NaN</td>\n",
       "      <td>NaN</td>\n",
       "      <td>NaN</td>\n",
       "      <td>NaN</td>\n",
       "      <td>NaN</td>\n",
       "    </tr>\n",
       "    <tr>\n",
       "      <th>1</th>\n",
       "      <td>0</td>\n",
       "      <td>2</td>\n",
       "      <td>660</td>\n",
       "      <td>100</td>\n",
       "      <td>100</td>\n",
       "      <td>12</td>\n",
       "      <td>11334</td>\n",
       "      <td>0</td>\n",
       "      <td>0</td>\n",
       "      <td>-1</td>\n",
       "      <td>...</td>\n",
       "      <td>NaN</td>\n",
       "      <td>NaN</td>\n",
       "      <td>NaN</td>\n",
       "      <td>NaN</td>\n",
       "      <td>NaN</td>\n",
       "      <td>NaN</td>\n",
       "      <td>NaN</td>\n",
       "      <td>NaN</td>\n",
       "      <td>NaN</td>\n",
       "      <td>NaN</td>\n",
       "    </tr>\n",
       "    <tr>\n",
       "      <th>2</th>\n",
       "      <td>1</td>\n",
       "      <td>19</td>\n",
       "      <td>723</td>\n",
       "      <td>0</td>\n",
       "      <td>75</td>\n",
       "      <td>10</td>\n",
       "      <td>51507</td>\n",
       "      <td>0</td>\n",
       "      <td>0</td>\n",
       "      <td>1</td>\n",
       "      <td>...</td>\n",
       "      <td>NaN</td>\n",
       "      <td>NaN</td>\n",
       "      <td>NaN</td>\n",
       "      <td>NaN</td>\n",
       "      <td>NaN</td>\n",
       "      <td>NaN</td>\n",
       "      <td>NaN</td>\n",
       "      <td>NaN</td>\n",
       "      <td>NaN</td>\n",
       "      <td>NaN</td>\n",
       "    </tr>\n",
       "    <tr>\n",
       "      <th>3</th>\n",
       "      <td>0</td>\n",
       "      <td>0</td>\n",
       "      <td>5</td>\n",
       "      <td>100</td>\n",
       "      <td>100</td>\n",
       "      <td>0</td>\n",
       "      <td>17127</td>\n",
       "      <td>0</td>\n",
       "      <td>0</td>\n",
       "      <td>-2</td>\n",
       "      <td>...</td>\n",
       "      <td>NaN</td>\n",
       "      <td>NaN</td>\n",
       "      <td>NaN</td>\n",
       "      <td>NaN</td>\n",
       "      <td>NaN</td>\n",
       "      <td>NaN</td>\n",
       "      <td>NaN</td>\n",
       "      <td>NaN</td>\n",
       "      <td>NaN</td>\n",
       "      <td>NaN</td>\n",
       "    </tr>\n",
       "    <tr>\n",
       "      <th>4</th>\n",
       "      <td>0</td>\n",
       "      <td>2</td>\n",
       "      <td>296</td>\n",
       "      <td>75</td>\n",
       "      <td>100</td>\n",
       "      <td>5</td>\n",
       "      <td>158074</td>\n",
       "      <td>0</td>\n",
       "      <td>0</td>\n",
       "      <td>-2</td>\n",
       "      <td>...</td>\n",
       "      <td>NaN</td>\n",
       "      <td>NaN</td>\n",
       "      <td>NaN</td>\n",
       "      <td>NaN</td>\n",
       "      <td>NaN</td>\n",
       "      <td>NaN</td>\n",
       "      <td>NaN</td>\n",
       "      <td>NaN</td>\n",
       "      <td>NaN</td>\n",
       "      <td>NaN</td>\n",
       "    </tr>\n",
       "  </tbody>\n",
       "</table>\n",
       "<p>5 rows × 75 columns</p>\n",
       "</div>"
      ],
      "text/plain": [
       "   assists  bonus  bps chance_of_playing_next_round  \\\n",
       "0        0      0   18                          100   \n",
       "1        0      2  660                          100   \n",
       "2        1     19  723                            0   \n",
       "3        0      0    5                          100   \n",
       "4        0      2  296                           75   \n",
       "\n",
       "  chance_of_playing_this_round  clean_sheets    code  cost_change_event  \\\n",
       "0                          100             0   48844                  0   \n",
       "1                          100            12   11334                  0   \n",
       "2                           75            10   51507                  0   \n",
       "3                          100             0   17127                  0   \n",
       "4                          100             5  158074                  0   \n",
       "\n",
       "   cost_change_event_fall  cost_change_start  ...  influence_rank  \\\n",
       "0                       0                 -3  ...             NaN   \n",
       "1                       0                 -1  ...             NaN   \n",
       "2                       0                  1  ...             NaN   \n",
       "3                       0                 -2  ...             NaN   \n",
       "4                       0                 -2  ...             NaN   \n",
       "\n",
       "  influence_rank_type  threat_rank  threat_rank_type  \\\n",
       "0                 NaN          NaN               NaN   \n",
       "1                 NaN          NaN               NaN   \n",
       "2                 NaN          NaN               NaN   \n",
       "3                 NaN          NaN               NaN   \n",
       "4                 NaN          NaN               NaN   \n",
       "\n",
       "   corners_and_indirect_freekicks_order corners_and_indirect_freekicks_text  \\\n",
       "0                                   NaN                                 NaN   \n",
       "1                                   NaN                                 NaN   \n",
       "2                                   NaN                                 NaN   \n",
       "3                                   NaN                                 NaN   \n",
       "4                                   NaN                                 NaN   \n",
       "\n",
       "  direct_freekicks_order  direct_freekicks_text penalties_order penalties_text  \n",
       "0                    NaN                    NaN             NaN            NaN  \n",
       "1                    NaN                    NaN             NaN            NaN  \n",
       "2                    NaN                    NaN             NaN            NaN  \n",
       "3                    NaN                    NaN             NaN            NaN  \n",
       "4                    NaN                    NaN             NaN            NaN  \n",
       "\n",
       "[5 rows x 75 columns]"
      ]
     },
     "execution_count": 16,
     "metadata": {},
     "output_type": "execute_result"
    }
   ],
   "source": [
    "# Preview history data.\n",
    "hist.head()"
   ]
  },
  {
   "cell_type": "code",
   "execution_count": 17,
   "metadata": {},
   "outputs": [],
   "source": [
    "# Engineer feature to highlight the form of the players.\n",
    "hist['form'] = hist['total_points']/38 "
   ]
  },
  {
   "cell_type": "code",
   "execution_count": 18,
   "metadata": {},
   "outputs": [
    {
     "data": {
      "text/plain": [
       "Index(['assists', 'bonus', 'bps', 'chance_of_playing_next_round',\n",
       "       'chance_of_playing_this_round', 'clean_sheets', 'code',\n",
       "       'cost_change_event', 'cost_change_event_fall', 'cost_change_start',\n",
       "       'cost_change_start_fall', 'creativity', 'dreamteam_count', 'ea_index',\n",
       "       'element_type', 'ep_next', 'ep_this', 'event_points', 'first_name',\n",
       "       'form', 'goals_conceded', 'goals_scored', 'ict_index', 'id',\n",
       "       'in_dreamteam', 'influence', 'loaned_in', 'loaned_out', 'loans_in',\n",
       "       'loans_out', 'minutes', 'news', 'now_cost', 'own_goals',\n",
       "       'penalties_missed', 'penalties_saved', 'photo', 'points_per_game',\n",
       "       'position', 'red_cards', 'saves', 'second_name', 'selected_by_percent',\n",
       "       'special', 'squad_number', 'status', 'team', 'team_code', 'team_name',\n",
       "       'threat', 'total_points', 'transfers_in', 'transfers_in_event',\n",
       "       'transfers_out', 'transfers_out_event', 'value_form', 'value_season',\n",
       "       'web_name', 'yellow_cards', 'year', 'news_added', 'creativity_rank',\n",
       "       'creativity_rank_type', 'ict_index_rank', 'ict_index_rank_type',\n",
       "       'influence_rank', 'influence_rank_type', 'threat_rank',\n",
       "       'threat_rank_type', 'corners_and_indirect_freekicks_order',\n",
       "       'corners_and_indirect_freekicks_text', 'direct_freekicks_order',\n",
       "       'direct_freekicks_text', 'penalties_order', 'penalties_text'],\n",
       "      dtype='object')"
      ]
     },
     "execution_count": 18,
     "metadata": {},
     "output_type": "execute_result"
    }
   ],
   "source": [
    "# Print all columns.\n",
    "hist.columns"
   ]
  },
  {
   "cell_type": "markdown",
   "metadata": {},
   "source": [
    "We have the historical data from 16-21. We proceed as described below:\n",
    "1. Create a column with the First Name, Last Name and the Year. \n",
    "2. Combine the name and the year of the df_`allseasons` dataframe to match the historical data. \n",
    "3. Map the two based on the First Name, Last Name and the Year and extract needed features."
   ]
  },
  {
   "cell_type": "code",
   "execution_count": 19,
   "metadata": {},
   "outputs": [],
   "source": [
    "# Engineer feature to highlight the players name and the season they played in.\n",
    "hist['name_season'] = hist['first_name'] + ' ' + hist['second_name'] + '_' + hist['year']"
   ]
  },
  {
   "cell_type": "code",
   "execution_count": 20,
   "metadata": {},
   "outputs": [
    {
     "data": {
      "text/plain": [
       "0                David Ospina_2016-17\n",
       "1                   Petr Cech_2016-17\n",
       "2           Laurent Koscielny_2016-17\n",
       "3             Per Mertesacker_2016-17\n",
       "4    Gabriel Armando de Abreu_2016-17\n",
       "Name: name_season, dtype: object"
      ]
     },
     "execution_count": 20,
     "metadata": {},
     "output_type": "execute_result"
    }
   ],
   "source": [
    "# Display a sample of name_season column.\n",
    "hist.name_season.head()"
   ]
  },
  {
   "cell_type": "code",
   "execution_count": 21,
   "metadata": {},
   "outputs": [
    {
     "data": {
      "text/plain": [
       "1582    6.815789\n",
       "Name: form, dtype: float64"
      ]
     },
     "execution_count": 21,
     "metadata": {},
     "output_type": "execute_result"
    }
   ],
   "source": [
    "# Data Quality Checks.\n",
    "subset  = ['Mohamed Salah_2018-19']\n",
    "check = hist[hist.name_season.isin(subset)]\n",
    "check.form"
   ]
  },
  {
   "cell_type": "code",
   "execution_count": 22,
   "metadata": {},
   "outputs": [],
   "source": [
    "# Engineer feature to highlight the players name and the season they played in.\n",
    "df_allseasons_clean['name_season'] = df_allseasons_clean['name'] + '_' + df_allseasons_clean['season_x']"
   ]
  },
  {
   "cell_type": "code",
   "execution_count": 23,
   "metadata": {},
   "outputs": [],
   "source": [
    "# Engineer a feature to highlight the club of the player.\n",
    "teams=dict(zip(hist.name_season, hist.team_name))\n",
    "\n",
    "df_allseasons_clean['club_name'] = df_allseasons_clean['name_season'].map(teams)"
   ]
  },
  {
   "cell_type": "code",
   "execution_count": 24,
   "metadata": {},
   "outputs": [],
   "source": [
    "# Engineer a feature to highlight the form of the player.\n",
    "teams=dict(zip(hist.name_season, hist.form))\n",
    "\n",
    "df_allseasons_clean['form'] = df_allseasons_clean['name_season'].map(teams)"
   ]
  },
  {
   "cell_type": "code",
   "execution_count": 25,
   "metadata": {},
   "outputs": [
    {
     "data": {
      "text/html": [
       "<div>\n",
       "<style scoped>\n",
       "    .dataframe tbody tr th:only-of-type {\n",
       "        vertical-align: middle;\n",
       "    }\n",
       "\n",
       "    .dataframe tbody tr th {\n",
       "        vertical-align: top;\n",
       "    }\n",
       "\n",
       "    .dataframe thead th {\n",
       "        text-align: right;\n",
       "    }\n",
       "</style>\n",
       "<table border=\"1\" class=\"dataframe\">\n",
       "  <thead>\n",
       "    <tr style=\"text-align: right;\">\n",
       "      <th></th>\n",
       "      <th>season_x</th>\n",
       "      <th>name</th>\n",
       "      <th>position</th>\n",
       "      <th>team_x</th>\n",
       "      <th>assists</th>\n",
       "      <th>bonus</th>\n",
       "      <th>bps</th>\n",
       "      <th>clean_sheets</th>\n",
       "      <th>creativity</th>\n",
       "      <th>element</th>\n",
       "      <th>...</th>\n",
       "      <th>transfers_balance</th>\n",
       "      <th>transfers_in</th>\n",
       "      <th>transfers_out</th>\n",
       "      <th>value</th>\n",
       "      <th>was_home</th>\n",
       "      <th>yellow_cards</th>\n",
       "      <th>GW</th>\n",
       "      <th>name_season</th>\n",
       "      <th>club_name</th>\n",
       "      <th>form</th>\n",
       "    </tr>\n",
       "  </thead>\n",
       "  <tbody>\n",
       "    <tr>\n",
       "      <th>0</th>\n",
       "      <td>2016-17</td>\n",
       "      <td>Aaron Cresswell</td>\n",
       "      <td>DEF</td>\n",
       "      <td>NaN</td>\n",
       "      <td>0</td>\n",
       "      <td>0</td>\n",
       "      <td>0</td>\n",
       "      <td>0</td>\n",
       "      <td>0.0</td>\n",
       "      <td>454</td>\n",
       "      <td>...</td>\n",
       "      <td>0</td>\n",
       "      <td>0</td>\n",
       "      <td>0</td>\n",
       "      <td>55</td>\n",
       "      <td>False</td>\n",
       "      <td>0</td>\n",
       "      <td>1</td>\n",
       "      <td>Aaron Cresswell_2016-17</td>\n",
       "      <td>WHU</td>\n",
       "      <td>1.578947</td>\n",
       "    </tr>\n",
       "    <tr>\n",
       "      <th>1</th>\n",
       "      <td>2016-17</td>\n",
       "      <td>Aaron Lennon</td>\n",
       "      <td>MID</td>\n",
       "      <td>NaN</td>\n",
       "      <td>0</td>\n",
       "      <td>0</td>\n",
       "      <td>6</td>\n",
       "      <td>0</td>\n",
       "      <td>0.3</td>\n",
       "      <td>142</td>\n",
       "      <td>...</td>\n",
       "      <td>0</td>\n",
       "      <td>0</td>\n",
       "      <td>0</td>\n",
       "      <td>60</td>\n",
       "      <td>True</td>\n",
       "      <td>0</td>\n",
       "      <td>1</td>\n",
       "      <td>Aaron Lennon_2016-17</td>\n",
       "      <td>EVE</td>\n",
       "      <td>0.578947</td>\n",
       "    </tr>\n",
       "    <tr>\n",
       "      <th>2</th>\n",
       "      <td>2016-17</td>\n",
       "      <td>Aaron Ramsey</td>\n",
       "      <td>MID</td>\n",
       "      <td>NaN</td>\n",
       "      <td>0</td>\n",
       "      <td>0</td>\n",
       "      <td>5</td>\n",
       "      <td>0</td>\n",
       "      <td>4.9</td>\n",
       "      <td>16</td>\n",
       "      <td>...</td>\n",
       "      <td>0</td>\n",
       "      <td>0</td>\n",
       "      <td>0</td>\n",
       "      <td>80</td>\n",
       "      <td>True</td>\n",
       "      <td>0</td>\n",
       "      <td>1</td>\n",
       "      <td>Aaron Ramsey_2016-17</td>\n",
       "      <td>ARS</td>\n",
       "      <td>1.473684</td>\n",
       "    </tr>\n",
       "    <tr>\n",
       "      <th>3</th>\n",
       "      <td>2016-17</td>\n",
       "      <td>Abdoulaye Doucouré</td>\n",
       "      <td>MID</td>\n",
       "      <td>NaN</td>\n",
       "      <td>0</td>\n",
       "      <td>0</td>\n",
       "      <td>0</td>\n",
       "      <td>0</td>\n",
       "      <td>0.0</td>\n",
       "      <td>482</td>\n",
       "      <td>...</td>\n",
       "      <td>0</td>\n",
       "      <td>0</td>\n",
       "      <td>0</td>\n",
       "      <td>50</td>\n",
       "      <td>False</td>\n",
       "      <td>0</td>\n",
       "      <td>1</td>\n",
       "      <td>Abdoulaye Doucouré_2016-17</td>\n",
       "      <td>WAT</td>\n",
       "      <td>1.000000</td>\n",
       "    </tr>\n",
       "    <tr>\n",
       "      <th>4</th>\n",
       "      <td>2016-17</td>\n",
       "      <td>Adam Forshaw</td>\n",
       "      <td>MID</td>\n",
       "      <td>NaN</td>\n",
       "      <td>0</td>\n",
       "      <td>0</td>\n",
       "      <td>3</td>\n",
       "      <td>0</td>\n",
       "      <td>1.3</td>\n",
       "      <td>286</td>\n",
       "      <td>...</td>\n",
       "      <td>0</td>\n",
       "      <td>0</td>\n",
       "      <td>0</td>\n",
       "      <td>45</td>\n",
       "      <td>True</td>\n",
       "      <td>1</td>\n",
       "      <td>1</td>\n",
       "      <td>Adam Forshaw_2016-17</td>\n",
       "      <td>MID</td>\n",
       "      <td>2.026316</td>\n",
       "    </tr>\n",
       "  </tbody>\n",
       "</table>\n",
       "<p>5 rows × 40 columns</p>\n",
       "</div>"
      ],
      "text/plain": [
       "  season_x                name position team_x  assists  bonus  bps  \\\n",
       "0  2016-17     Aaron Cresswell      DEF    NaN        0      0    0   \n",
       "1  2016-17        Aaron Lennon      MID    NaN        0      0    6   \n",
       "2  2016-17        Aaron Ramsey      MID    NaN        0      0    5   \n",
       "3  2016-17  Abdoulaye Doucouré      MID    NaN        0      0    0   \n",
       "4  2016-17        Adam Forshaw      MID    NaN        0      0    3   \n",
       "\n",
       "   clean_sheets  creativity  element  ...  transfers_balance  transfers_in  \\\n",
       "0             0         0.0      454  ...                  0             0   \n",
       "1             0         0.3      142  ...                  0             0   \n",
       "2             0         4.9       16  ...                  0             0   \n",
       "3             0         0.0      482  ...                  0             0   \n",
       "4             0         1.3      286  ...                  0             0   \n",
       "\n",
       "   transfers_out  value  was_home yellow_cards  GW  \\\n",
       "0              0     55     False            0   1   \n",
       "1              0     60      True            0   1   \n",
       "2              0     80      True            0   1   \n",
       "3              0     50     False            0   1   \n",
       "4              0     45      True            1   1   \n",
       "\n",
       "                  name_season club_name      form  \n",
       "0     Aaron Cresswell_2016-17       WHU  1.578947  \n",
       "1        Aaron Lennon_2016-17       EVE  0.578947  \n",
       "2        Aaron Ramsey_2016-17       ARS  1.473684  \n",
       "3  Abdoulaye Doucouré_2016-17       WAT  1.000000  \n",
       "4        Adam Forshaw_2016-17       MID  2.026316  \n",
       "\n",
       "[5 rows x 40 columns]"
      ]
     },
     "execution_count": 25,
     "metadata": {},
     "output_type": "execute_result"
    }
   ],
   "source": [
    "# Preview dataframe.\n",
    "df_allseasons_clean.head()"
   ]
  },
  {
   "cell_type": "code",
   "execution_count": 26,
   "metadata": {},
   "outputs": [
    {
     "data": {
      "text/plain": [
       "50237    4.578947\n",
       "50787    4.578947\n",
       "51344    4.578947\n",
       "51917    4.578947\n",
       "52611    4.578947\n",
       "53207    4.578947\n",
       "53807    4.578947\n",
       "54408    4.578947\n",
       "55010    4.578947\n",
       "55566    4.578947\n",
       "56157    4.578947\n",
       "56764    4.578947\n",
       "57374    4.578947\n",
       "57988    4.578947\n",
       "58498    4.578947\n",
       "59044    4.578947\n",
       "59480    4.578947\n",
       "60327    4.578947\n",
       "60328    4.578947\n",
       "61026    4.578947\n",
       "61674    4.578947\n",
       "62336    4.578947\n",
       "63001    4.578947\n",
       "63780    4.578947\n",
       "64523    4.578947\n",
       "65608    4.578947\n",
       "65609    4.578947\n",
       "65890    4.578947\n",
       "66643    4.578947\n",
       "67606    4.578947\n",
       "68293    4.578947\n",
       "68985    4.578947\n",
       "69666    4.578947\n",
       "70880    4.578947\n",
       "70881    4.578947\n",
       "70882    4.578947\n",
       "72475    4.578947\n",
       "73181    4.578947\n",
       "Name: form, dtype: float64"
      ]
     },
     "execution_count": 26,
     "metadata": {},
     "output_type": "execute_result"
    }
   ],
   "source": [
    "# Data Quality Checks.\n",
    "subset  = ['Marcus Rashford_2020-21']\n",
    "check = df_allseasons_clean[df_allseasons_clean.name_season.isin(subset)]\n",
    "check.form"
   ]
  },
  {
   "cell_type": "code",
   "execution_count": 27,
   "metadata": {},
   "outputs": [
    {
     "data": {
      "text/plain": [
       "Index(['season_x', 'name', 'position', 'team_x', 'assists', 'bonus', 'bps',\n",
       "       'clean_sheets', 'creativity', 'element', 'fixture', 'goals_conceded',\n",
       "       'goals_scored', 'ict_index', 'influence', 'kickoff_time', 'minutes',\n",
       "       'opponent_team', 'opp_team_name', 'own_goals', 'penalties_missed',\n",
       "       'penalties_saved', 'red_cards', 'round', 'saves', 'selected',\n",
       "       'team_a_score', 'team_h_score', 'threat', 'total_points',\n",
       "       'transfers_balance', 'transfers_in', 'transfers_out', 'value',\n",
       "       'was_home', 'yellow_cards', 'GW', 'name_season', 'club_name', 'form'],\n",
       "      dtype='object')"
      ]
     },
     "execution_count": 27,
     "metadata": {},
     "output_type": "execute_result"
    }
   ],
   "source": [
    "# Print all columns.\n",
    "df_allseasons_clean.columns"
   ]
  },
  {
   "cell_type": "code",
   "execution_count": 28,
   "metadata": {},
   "outputs": [],
   "source": [
    "# Engineer feature to highlight the game dates from kickoff_time.\n",
    "df_allseasons_clean['game_date'] = df_allseasons_clean['kickoff_time'].str.replace('T', ' ')\n",
    "df_allseasons_clean['game_date'] = df_allseasons_clean['game_date'].str.replace(':00Z', '')"
   ]
  },
  {
   "cell_type": "code",
   "execution_count": 29,
   "metadata": {},
   "outputs": [
    {
     "data": {
      "text/plain": [
       "0    2016-08-15 19:00\n",
       "1    2016-08-13 14:00\n",
       "2    2016-08-14 15:00\n",
       "3    2016-08-13 14:00\n",
       "4    2016-08-13 14:00\n",
       "Name: game_date, dtype: object"
      ]
     },
     "execution_count": 29,
     "metadata": {},
     "output_type": "execute_result"
    }
   ],
   "source": [
    "# Preview series.\n",
    "df_allseasons_clean.game_date.head()"
   ]
  },
  {
   "cell_type": "code",
   "execution_count": 30,
   "metadata": {},
   "outputs": [],
   "source": [
    "# Convert game_date feature to appropriate dtype.\n",
    "df_allseasons_clean['game_date'] = pd.to_datetime(df_allseasons_clean['game_date'])"
   ]
  },
  {
   "cell_type": "code",
   "execution_count": 31,
   "metadata": {},
   "outputs": [
    {
     "data": {
      "text/plain": [
       "0   2016-08-15 19:00:00\n",
       "1   2016-08-13 14:00:00\n",
       "2   2016-08-14 15:00:00\n",
       "3   2016-08-13 14:00:00\n",
       "4   2016-08-13 14:00:00\n",
       "Name: game_date, dtype: datetime64[ns]"
      ]
     },
     "execution_count": 31,
     "metadata": {},
     "output_type": "execute_result"
    }
   ],
   "source": [
    "# Preview series.\n",
    "df_allseasons_clean.game_date.head()"
   ]
  },
  {
   "cell_type": "code",
   "execution_count": 32,
   "metadata": {},
   "outputs": [],
   "source": [
    "# Engineer game season weather feature.\n",
    "seasons = [1, 1, 2, 2, 2, 3, 3, 3, 4, 4, 4, 1]\n",
    "\n",
    "month_to_season = dict(zip(range(1,13), seasons))\n",
    "df_allseasons_clean['game_weather'] = df_allseasons_clean.game_date.dt.month.map(month_to_season) "
   ]
  },
  {
   "cell_type": "code",
   "execution_count": 33,
   "metadata": {},
   "outputs": [
    {
     "data": {
      "text/plain": [
       "1    36939\n",
       "2    26810\n",
       "4    24533\n",
       "3    10120\n",
       "Name: game_weather, dtype: int64"
      ]
     },
     "execution_count": 33,
     "metadata": {},
     "output_type": "execute_result"
    }
   ],
   "source": [
    "# Data Quality Check.\n",
    "df_allseasons_clean.game_weather.value_counts()"
   ]
  },
  {
   "cell_type": "code",
   "execution_count": 34,
   "metadata": {},
   "outputs": [],
   "source": [
    "# Engineer feature to highlights games that started before 13:00 (early starts) and those that started after 13:00 (late starts)\n",
    "df_allseasons_clean['start_label'] = np.where((df_allseasons_clean['game_date'].dt.hour) < 13, 0, 1)"
   ]
  },
  {
   "cell_type": "code",
   "execution_count": 35,
   "metadata": {},
   "outputs": [
    {
     "data": {
      "text/html": [
       "<div>\n",
       "<style scoped>\n",
       "    .dataframe tbody tr th:only-of-type {\n",
       "        vertical-align: middle;\n",
       "    }\n",
       "\n",
       "    .dataframe tbody tr th {\n",
       "        vertical-align: top;\n",
       "    }\n",
       "\n",
       "    .dataframe thead th {\n",
       "        text-align: right;\n",
       "    }\n",
       "</style>\n",
       "<table border=\"1\" class=\"dataframe\">\n",
       "  <thead>\n",
       "    <tr style=\"text-align: right;\">\n",
       "      <th></th>\n",
       "      <th>game_date</th>\n",
       "      <th>start_label</th>\n",
       "    </tr>\n",
       "  </thead>\n",
       "  <tbody>\n",
       "    <tr>\n",
       "      <th>0</th>\n",
       "      <td>2016-08-15 19:00:00</td>\n",
       "      <td>1</td>\n",
       "    </tr>\n",
       "    <tr>\n",
       "      <th>1</th>\n",
       "      <td>2016-08-13 14:00:00</td>\n",
       "      <td>1</td>\n",
       "    </tr>\n",
       "    <tr>\n",
       "      <th>2</th>\n",
       "      <td>2016-08-14 15:00:00</td>\n",
       "      <td>1</td>\n",
       "    </tr>\n",
       "    <tr>\n",
       "      <th>3</th>\n",
       "      <td>2016-08-13 14:00:00</td>\n",
       "      <td>1</td>\n",
       "    </tr>\n",
       "    <tr>\n",
       "      <th>4</th>\n",
       "      <td>2016-08-13 14:00:00</td>\n",
       "      <td>1</td>\n",
       "    </tr>\n",
       "    <tr>\n",
       "      <th>5</th>\n",
       "      <td>2016-08-14 15:00:00</td>\n",
       "      <td>1</td>\n",
       "    </tr>\n",
       "    <tr>\n",
       "      <th>6</th>\n",
       "      <td>2016-08-15 19:00:00</td>\n",
       "      <td>1</td>\n",
       "    </tr>\n",
       "    <tr>\n",
       "      <th>7</th>\n",
       "      <td>2016-08-14 15:00:00</td>\n",
       "      <td>1</td>\n",
       "    </tr>\n",
       "    <tr>\n",
       "      <th>8</th>\n",
       "      <td>2016-08-13 14:00:00</td>\n",
       "      <td>1</td>\n",
       "    </tr>\n",
       "    <tr>\n",
       "      <th>9</th>\n",
       "      <td>2016-08-14 15:00:00</td>\n",
       "      <td>1</td>\n",
       "    </tr>\n",
       "    <tr>\n",
       "      <th>10</th>\n",
       "      <td>2016-08-14 12:30:00</td>\n",
       "      <td>0</td>\n",
       "    </tr>\n",
       "    <tr>\n",
       "      <th>11</th>\n",
       "      <td>2016-08-13 11:30:00</td>\n",
       "      <td>0</td>\n",
       "    </tr>\n",
       "    <tr>\n",
       "      <th>12</th>\n",
       "      <td>2016-08-13 14:00:00</td>\n",
       "      <td>1</td>\n",
       "    </tr>\n",
       "    <tr>\n",
       "      <th>13</th>\n",
       "      <td>2016-08-13 14:00:00</td>\n",
       "      <td>1</td>\n",
       "    </tr>\n",
       "    <tr>\n",
       "      <th>14</th>\n",
       "      <td>2016-08-15 19:00:00</td>\n",
       "      <td>1</td>\n",
       "    </tr>\n",
       "    <tr>\n",
       "      <th>15</th>\n",
       "      <td>2016-08-15 19:00:00</td>\n",
       "      <td>1</td>\n",
       "    </tr>\n",
       "    <tr>\n",
       "      <th>16</th>\n",
       "      <td>2016-08-14 12:30:00</td>\n",
       "      <td>0</td>\n",
       "    </tr>\n",
       "    <tr>\n",
       "      <th>17</th>\n",
       "      <td>2016-08-15 19:00:00</td>\n",
       "      <td>1</td>\n",
       "    </tr>\n",
       "    <tr>\n",
       "      <th>18</th>\n",
       "      <td>2016-08-13 14:00:00</td>\n",
       "      <td>1</td>\n",
       "    </tr>\n",
       "    <tr>\n",
       "      <th>19</th>\n",
       "      <td>2016-08-14 12:30:00</td>\n",
       "      <td>0</td>\n",
       "    </tr>\n",
       "  </tbody>\n",
       "</table>\n",
       "</div>"
      ],
      "text/plain": [
       "             game_date  start_label\n",
       "0  2016-08-15 19:00:00            1\n",
       "1  2016-08-13 14:00:00            1\n",
       "2  2016-08-14 15:00:00            1\n",
       "3  2016-08-13 14:00:00            1\n",
       "4  2016-08-13 14:00:00            1\n",
       "5  2016-08-14 15:00:00            1\n",
       "6  2016-08-15 19:00:00            1\n",
       "7  2016-08-14 15:00:00            1\n",
       "8  2016-08-13 14:00:00            1\n",
       "9  2016-08-14 15:00:00            1\n",
       "10 2016-08-14 12:30:00            0\n",
       "11 2016-08-13 11:30:00            0\n",
       "12 2016-08-13 14:00:00            1\n",
       "13 2016-08-13 14:00:00            1\n",
       "14 2016-08-15 19:00:00            1\n",
       "15 2016-08-15 19:00:00            1\n",
       "16 2016-08-14 12:30:00            0\n",
       "17 2016-08-15 19:00:00            1\n",
       "18 2016-08-13 14:00:00            1\n",
       "19 2016-08-14 12:30:00            0"
      ]
     },
     "execution_count": 35,
     "metadata": {},
     "output_type": "execute_result"
    }
   ],
   "source": [
    "# Quality Check.\n",
    "df_allseasons_clean[['game_date', 'start_label']].head(20)"
   ]
  },
  {
   "cell_type": "code",
   "execution_count": 36,
   "metadata": {},
   "outputs": [
    {
     "name": "stdout",
     "output_type": "stream",
     "text": [
      "<class 'pandas.core.frame.DataFrame'>\n",
      "Int64Index: 98402 entries, 0 to 98401\n",
      "Data columns (total 43 columns):\n",
      " #   Column             Non-Null Count  Dtype         \n",
      "---  ------             --------------  -----         \n",
      " 0   season_x           98402 non-null  object        \n",
      " 1   name               98402 non-null  object        \n",
      " 2   position           98402 non-null  object        \n",
      " 3   team_x             48930 non-null  object        \n",
      " 4   assists            98402 non-null  int64         \n",
      " 5   bonus              98402 non-null  int64         \n",
      " 6   bps                98402 non-null  int64         \n",
      " 7   clean_sheets       98402 non-null  int64         \n",
      " 8   creativity         98402 non-null  float64       \n",
      " 9   element            98402 non-null  int64         \n",
      " 10  fixture            98402 non-null  int64         \n",
      " 11  goals_conceded     98402 non-null  int64         \n",
      " 12  goals_scored       98402 non-null  int64         \n",
      " 13  ict_index          98402 non-null  float64       \n",
      " 14  influence          98402 non-null  float64       \n",
      " 15  kickoff_time       98402 non-null  object        \n",
      " 16  minutes            98402 non-null  int64         \n",
      " 17  opponent_team      98402 non-null  int64         \n",
      " 18  opp_team_name      98402 non-null  object        \n",
      " 19  own_goals          98402 non-null  int64         \n",
      " 20  penalties_missed   98402 non-null  int64         \n",
      " 21  penalties_saved    98402 non-null  int64         \n",
      " 22  red_cards          98402 non-null  int64         \n",
      " 23  round              98402 non-null  int64         \n",
      " 24  saves              98402 non-null  int64         \n",
      " 25  selected           98402 non-null  int64         \n",
      " 26  team_a_score       98353 non-null  float64       \n",
      " 27  team_h_score       98353 non-null  float64       \n",
      " 28  threat             98402 non-null  float64       \n",
      " 29  total_points       98402 non-null  int64         \n",
      " 30  transfers_balance  98402 non-null  int64         \n",
      " 31  transfers_in       98402 non-null  int64         \n",
      " 32  transfers_out      98402 non-null  int64         \n",
      " 33  value              98402 non-null  int64         \n",
      " 34  was_home           98402 non-null  bool          \n",
      " 35  yellow_cards       98402 non-null  int64         \n",
      " 36  GW                 98402 non-null  int64         \n",
      " 37  name_season        98402 non-null  object        \n",
      " 38  club_name          98364 non-null  object        \n",
      " 39  form               98364 non-null  float64       \n",
      " 40  game_date          98402 non-null  datetime64[ns]\n",
      " 41  game_weather       98402 non-null  int64         \n",
      " 42  start_label        98402 non-null  int64         \n",
      "dtypes: bool(1), datetime64[ns](1), float64(7), int64(26), object(8)\n",
      "memory usage: 32.4+ MB\n"
     ]
    }
   ],
   "source": [
    "# Descriptive information on all features.\n",
    "df_allseasons_clean.info()"
   ]
  },
  {
   "cell_type": "code",
   "execution_count": 37,
   "metadata": {},
   "outputs": [
    {
     "data": {
      "text/plain": [
       "season_x                 0\n",
       "name                     0\n",
       "position                 0\n",
       "team_x               49472\n",
       "assists                  0\n",
       "bonus                    0\n",
       "bps                      0\n",
       "clean_sheets             0\n",
       "creativity               0\n",
       "element                  0\n",
       "fixture                  0\n",
       "goals_conceded           0\n",
       "goals_scored             0\n",
       "ict_index                0\n",
       "influence                0\n",
       "kickoff_time             0\n",
       "minutes                  0\n",
       "opponent_team            0\n",
       "opp_team_name            0\n",
       "own_goals                0\n",
       "penalties_missed         0\n",
       "penalties_saved          0\n",
       "red_cards                0\n",
       "round                    0\n",
       "saves                    0\n",
       "selected                 0\n",
       "team_a_score            49\n",
       "team_h_score            49\n",
       "threat                   0\n",
       "total_points             0\n",
       "transfers_balance        0\n",
       "transfers_in             0\n",
       "transfers_out            0\n",
       "value                    0\n",
       "was_home                 0\n",
       "yellow_cards             0\n",
       "GW                       0\n",
       "name_season              0\n",
       "club_name               38\n",
       "form                    38\n",
       "game_date                0\n",
       "game_weather             0\n",
       "start_label              0\n",
       "dtype: int64"
      ]
     },
     "execution_count": 37,
     "metadata": {},
     "output_type": "execute_result"
    }
   ],
   "source": [
    "# Check missing values for each feature.\n",
    "df_allseasons_clean.isna().sum()"
   ]
  },
  {
   "cell_type": "code",
   "execution_count": 38,
   "metadata": {},
   "outputs": [
    {
     "data": {
      "text/plain": [
       "44426   NaN\n",
       "44428   NaN\n",
       "44430   NaN\n",
       "44444   NaN\n",
       "44450   NaN\n",
       "44453   NaN\n",
       "44458   NaN\n",
       "44465   NaN\n",
       "44485   NaN\n",
       "44490   NaN\n",
       "44494   NaN\n",
       "44498   NaN\n",
       "44502   NaN\n",
       "44505   NaN\n",
       "44510   NaN\n",
       "44514   NaN\n",
       "44521   NaN\n",
       "44535   NaN\n",
       "44549   NaN\n",
       "44559   NaN\n",
       "44572   NaN\n",
       "44574   NaN\n",
       "44589   NaN\n",
       "44602   NaN\n",
       "44616   NaN\n",
       "44622   NaN\n",
       "44624   NaN\n",
       "44627   NaN\n",
       "44630   NaN\n",
       "44656   NaN\n",
       "44658   NaN\n",
       "44681   NaN\n",
       "44691   NaN\n",
       "44700   NaN\n",
       "44714   NaN\n",
       "44728   NaN\n",
       "44736   NaN\n",
       "44740   NaN\n",
       "44761   NaN\n",
       "44769   NaN\n",
       "44785   NaN\n",
       "44807   NaN\n",
       "44839   NaN\n",
       "44856   NaN\n",
       "44866   NaN\n",
       "44870   NaN\n",
       "44872   NaN\n",
       "44902   NaN\n",
       "44917   NaN\n",
       "Name: team_h_score, dtype: float64"
      ]
     },
     "execution_count": 38,
     "metadata": {},
     "output_type": "execute_result"
    }
   ],
   "source": [
    "# Check the Nan values in team_a_score and team_h_score.\n",
    "filt = df_allseasons_clean['team_a_score'].isna() == True\n",
    "df_allseasons_clean.loc[filt, 'team_h_score']"
   ]
  },
  {
   "cell_type": "markdown",
   "metadata": {},
   "source": [
    "#### Observation\n",
    "- `team_x` can be dropped since another feature (`club_name`) that highlights the name of the clubs of the players has been engineered.\n",
    "- The features (`team_a_score` and `team_h_score`, `club_name`, `form`) have missing values for the same observations (49 observations). The observations can thus be comfortably dropped."
   ]
  },
  {
   "cell_type": "markdown",
   "metadata": {},
   "source": [
    "#### Data Quality\n",
    "Data quality issues are mostly divided into four:\n",
    "- Completeness: do we have all of the records that we should? Do we have missing records or not? Are there specific rows, columns, or cells missing?\n",
    "- Validity: we have the records, but they're not valid, i.e., they don't conform to a defined schema. A schema is a defined set of rules for data. These rules can be real-world constraints (e.g. negative height is impossible) and table-specific constraints (e.g. unique key constraints in tables).\n",
    "- Accuracy: inaccurate data is wrong data that is valid. It adheres to the defined schema, but it is still incorrect.\n",
    "- Consistency: inconsistent data is both valid and accurate, but there are multiple correct ways of referring to the same thing. Consistency, i.e., a standard format, in columns that represent the same data across tables and/or within tables is desired.\n",
    "\n",
    "After assessing the data, we have the following issues:\n",
    "\n",
    "1. Missing data (`team_x`, `team_a_score`, `team_h_score`, `club_name`, `form`).\n",
    "2. Erroneous data types (`team_a_score`, `team_h_score`).\n",
    "3. Redundant features (`opponent_team` and `opp_team_name`, `kickoff_time` and `game_date`)\n",
    "\n",
    "#### Data Tidiness\n",
    "There are three main requirements for tidiness.\n",
    "\n",
    "1. Each variable forms a column,\n",
    "2. Each observation forms a row, and\n",
    "3. Each type of observational unit forms a table.\n",
    "\n",
    "The three above criteria's are fairly met by the dataset."
   ]
  },
  {
   "cell_type": "markdown",
   "metadata": {},
   "source": [
    "### CLEANING DATA"
   ]
  },
  {
   "cell_type": "code",
   "execution_count": 39,
   "metadata": {},
   "outputs": [],
   "source": [
    "# Make a copy of the original piece of data.\n",
    "df_allseasons_final = df_allseasons_clean.copy()"
   ]
  },
  {
   "cell_type": "markdown",
   "metadata": {},
   "source": [
    "#### QUALITY ISSUES"
   ]
  },
  {
   "cell_type": "markdown",
   "metadata": {},
   "source": [
    "#### Issue #1:\n",
    "- Missing data (`team_x`, `team_a_score`, `team_h_score`, `club_name`, `form`)"
   ]
  },
  {
   "cell_type": "markdown",
   "metadata": {},
   "source": [
    "#### Define\n",
    "- Drop `team_x` column.\n",
    "- Drop all missing observations."
   ]
  },
  {
   "cell_type": "markdown",
   "metadata": {},
   "source": [
    "#### Code"
   ]
  },
  {
   "cell_type": "code",
   "execution_count": 40,
   "metadata": {},
   "outputs": [],
   "source": [
    "# Drop feature.\n",
    "df_allseasons_final.drop('team_x', axis = 1, inplace=True)\n",
    "\n",
    "# Drop all missing observations.\n",
    "df_allseasons_final.dropna(inplace=True)"
   ]
  },
  {
   "cell_type": "markdown",
   "metadata": {},
   "source": [
    "#### Test"
   ]
  },
  {
   "cell_type": "code",
   "execution_count": 41,
   "metadata": {},
   "outputs": [
    {
     "data": {
      "text/plain": [
       "Index(['season_x', 'name', 'position', 'assists', 'bonus', 'bps',\n",
       "       'clean_sheets', 'creativity', 'element', 'fixture', 'goals_conceded',\n",
       "       'goals_scored', 'ict_index', 'influence', 'kickoff_time', 'minutes',\n",
       "       'opponent_team', 'opp_team_name', 'own_goals', 'penalties_missed',\n",
       "       'penalties_saved', 'red_cards', 'round', 'saves', 'selected',\n",
       "       'team_a_score', 'team_h_score', 'threat', 'total_points',\n",
       "       'transfers_balance', 'transfers_in', 'transfers_out', 'value',\n",
       "       'was_home', 'yellow_cards', 'GW', 'name_season', 'club_name', 'form',\n",
       "       'game_date', 'game_weather', 'start_label'],\n",
       "      dtype='object')"
      ]
     },
     "execution_count": 41,
     "metadata": {},
     "output_type": "execute_result"
    }
   ],
   "source": [
    "# Descriptive information on all features.\n",
    "df_allseasons_final.columns"
   ]
  },
  {
   "cell_type": "code",
   "execution_count": 42,
   "metadata": {},
   "outputs": [
    {
     "data": {
      "text/plain": [
       "season_x             0\n",
       "name                 0\n",
       "position             0\n",
       "assists              0\n",
       "bonus                0\n",
       "bps                  0\n",
       "clean_sheets         0\n",
       "creativity           0\n",
       "element              0\n",
       "fixture              0\n",
       "goals_conceded       0\n",
       "goals_scored         0\n",
       "ict_index            0\n",
       "influence            0\n",
       "kickoff_time         0\n",
       "minutes              0\n",
       "opponent_team        0\n",
       "opp_team_name        0\n",
       "own_goals            0\n",
       "penalties_missed     0\n",
       "penalties_saved      0\n",
       "red_cards            0\n",
       "round                0\n",
       "saves                0\n",
       "selected             0\n",
       "team_a_score         0\n",
       "team_h_score         0\n",
       "threat               0\n",
       "total_points         0\n",
       "transfers_balance    0\n",
       "transfers_in         0\n",
       "transfers_out        0\n",
       "value                0\n",
       "was_home             0\n",
       "yellow_cards         0\n",
       "GW                   0\n",
       "name_season          0\n",
       "club_name            0\n",
       "form                 0\n",
       "game_date            0\n",
       "game_weather         0\n",
       "start_label          0\n",
       "dtype: int64"
      ]
     },
     "execution_count": 42,
     "metadata": {},
     "output_type": "execute_result"
    }
   ],
   "source": [
    "# Check missing values for each feature.\n",
    "df_allseasons_final.isna().sum()"
   ]
  },
  {
   "cell_type": "markdown",
   "metadata": {},
   "source": [
    "#### Issue #2:\n",
    "- Erroneous data types (`team_a_score`, `team_h_score`)."
   ]
  },
  {
   "cell_type": "markdown",
   "metadata": {},
   "source": [
    "#### Define\n",
    "- Convert features to their appropriate data types (int)."
   ]
  },
  {
   "cell_type": "markdown",
   "metadata": {},
   "source": [
    "#### Code"
   ]
  },
  {
   "cell_type": "code",
   "execution_count": 43,
   "metadata": {},
   "outputs": [],
   "source": [
    "# Change dypes.\n",
    "df_allseasons_final['team_h_score'] = df_allseasons_final['team_h_score'].astype(int)\n",
    "df_allseasons_final['team_a_score'] = df_allseasons_final['team_a_score'].astype(int)"
   ]
  },
  {
   "cell_type": "markdown",
   "metadata": {},
   "source": [
    "#### Test"
   ]
  },
  {
   "cell_type": "code",
   "execution_count": 44,
   "metadata": {},
   "outputs": [
    {
     "data": {
      "text/plain": [
       "team_h_score    int64\n",
       "team_a_score    int64\n",
       "dtype: object"
      ]
     },
     "execution_count": 44,
     "metadata": {},
     "output_type": "execute_result"
    }
   ],
   "source": [
    "# Check dtype.\n",
    "df_allseasons_final[['team_h_score', 'team_a_score']].dtypes"
   ]
  },
  {
   "cell_type": "markdown",
   "metadata": {},
   "source": [
    "#### Issue #3:\n",
    "- Redundant features (`opponent_team` and `opp_team_name`, `kickoff_time` and `game_date`)"
   ]
  },
  {
   "cell_type": "markdown",
   "metadata": {},
   "source": [
    "#### Define\n",
    "- Drop `opponent_team` and `kickoff_time`."
   ]
  },
  {
   "cell_type": "markdown",
   "metadata": {},
   "source": [
    "#### Code"
   ]
  },
  {
   "cell_type": "code",
   "execution_count": 45,
   "metadata": {},
   "outputs": [],
   "source": [
    "# Drop features.\n",
    "df_allseasons_final.drop(['opponent_team', 'kickoff_time'], axis = 1, inplace=True)"
   ]
  },
  {
   "cell_type": "markdown",
   "metadata": {},
   "source": [
    "#### Test"
   ]
  },
  {
   "cell_type": "code",
   "execution_count": 46,
   "metadata": {},
   "outputs": [
    {
     "data": {
      "text/plain": [
       "Index(['season_x', 'name', 'position', 'assists', 'bonus', 'bps',\n",
       "       'clean_sheets', 'creativity', 'element', 'fixture', 'goals_conceded',\n",
       "       'goals_scored', 'ict_index', 'influence', 'minutes', 'opp_team_name',\n",
       "       'own_goals', 'penalties_missed', 'penalties_saved', 'red_cards',\n",
       "       'round', 'saves', 'selected', 'team_a_score', 'team_h_score', 'threat',\n",
       "       'total_points', 'transfers_balance', 'transfers_in', 'transfers_out',\n",
       "       'value', 'was_home', 'yellow_cards', 'GW', 'name_season', 'club_name',\n",
       "       'form', 'game_date', 'game_weather', 'start_label'],\n",
       "      dtype='object')"
      ]
     },
     "execution_count": 46,
     "metadata": {},
     "output_type": "execute_result"
    }
   ],
   "source": [
    "# Print all columns.\n",
    "df_allseasons_final.columns"
   ]
  },
  {
   "cell_type": "markdown",
   "metadata": {},
   "source": [
    "#### REFACTORING DATA\n",
    "\n",
    "- Drop features that are not needed for modeling (`season_x`, `name`, `name_season`, `fixture`, `game_date`, `round`)\n",
    "- Drop all players that had zero playtime.\n",
    "- Convert dataframe to a time series by making `game_date` the index."
   ]
  },
  {
   "cell_type": "code",
   "execution_count": 47,
   "metadata": {},
   "outputs": [
    {
     "name": "stdout",
     "output_type": "stream",
     "text": [
      "<class 'pandas.core.frame.DataFrame'>\n",
      "Int64Index: 98315 entries, 0 to 98401\n",
      "Data columns (total 34 columns):\n",
      " #   Column             Non-Null Count  Dtype         \n",
      "---  ------             --------------  -----         \n",
      " 0   position           98315 non-null  object        \n",
      " 1   assists            98315 non-null  int64         \n",
      " 2   bonus              98315 non-null  int64         \n",
      " 3   bps                98315 non-null  int64         \n",
      " 4   clean_sheets       98315 non-null  int64         \n",
      " 5   creativity         98315 non-null  float64       \n",
      " 6   goals_conceded     98315 non-null  int64         \n",
      " 7   goals_scored       98315 non-null  int64         \n",
      " 8   ict_index          98315 non-null  float64       \n",
      " 9   influence          98315 non-null  float64       \n",
      " 10  minutes            98315 non-null  int64         \n",
      " 11  opp_team_name      98315 non-null  object        \n",
      " 12  own_goals          98315 non-null  int64         \n",
      " 13  penalties_missed   98315 non-null  int64         \n",
      " 14  penalties_saved    98315 non-null  int64         \n",
      " 15  red_cards          98315 non-null  int64         \n",
      " 16  saves              98315 non-null  int64         \n",
      " 17  selected           98315 non-null  int64         \n",
      " 18  team_a_score       98315 non-null  int64         \n",
      " 19  team_h_score       98315 non-null  int64         \n",
      " 20  threat             98315 non-null  float64       \n",
      " 21  total_points       98315 non-null  int64         \n",
      " 22  transfers_balance  98315 non-null  int64         \n",
      " 23  transfers_in       98315 non-null  int64         \n",
      " 24  transfers_out      98315 non-null  int64         \n",
      " 25  value              98315 non-null  int64         \n",
      " 26  was_home           98315 non-null  bool          \n",
      " 27  yellow_cards       98315 non-null  int64         \n",
      " 28  GW                 98315 non-null  int64         \n",
      " 29  club_name          98315 non-null  object        \n",
      " 30  form               98315 non-null  float64       \n",
      " 31  game_date          98315 non-null  datetime64[ns]\n",
      " 32  game_weather       98315 non-null  int64         \n",
      " 33  start_label        98315 non-null  int64         \n",
      "dtypes: bool(1), datetime64[ns](1), float64(5), int64(24), object(3)\n",
      "memory usage: 25.6+ MB\n"
     ]
    }
   ],
   "source": [
    "# Drop features.\n",
    "df_allseasons_final.drop(['season_x', 'name', 'name_season', 'fixture', 'round', 'element'], axis=1, inplace=True)\n",
    "\n",
    "# Descriptive information.\n",
    "df_allseasons_final.info()"
   ]
  },
  {
   "cell_type": "code",
   "execution_count": 48,
   "metadata": {},
   "outputs": [
    {
     "name": "stdout",
     "output_type": "stream",
     "text": [
      "<class 'pandas.core.frame.DataFrame'>\n",
      "Int64Index: 49194 entries, 1 to 98399\n",
      "Data columns (total 34 columns):\n",
      " #   Column             Non-Null Count  Dtype         \n",
      "---  ------             --------------  -----         \n",
      " 0   position           49194 non-null  object        \n",
      " 1   assists            49194 non-null  int64         \n",
      " 2   bonus              49194 non-null  int64         \n",
      " 3   bps                49194 non-null  int64         \n",
      " 4   clean_sheets       49194 non-null  int64         \n",
      " 5   creativity         49194 non-null  float64       \n",
      " 6   goals_conceded     49194 non-null  int64         \n",
      " 7   goals_scored       49194 non-null  int64         \n",
      " 8   ict_index          49194 non-null  float64       \n",
      " 9   influence          49194 non-null  float64       \n",
      " 10  minutes            49194 non-null  int64         \n",
      " 11  opp_team_name      49194 non-null  object        \n",
      " 12  own_goals          49194 non-null  int64         \n",
      " 13  penalties_missed   49194 non-null  int64         \n",
      " 14  penalties_saved    49194 non-null  int64         \n",
      " 15  red_cards          49194 non-null  int64         \n",
      " 16  saves              49194 non-null  int64         \n",
      " 17  selected           49194 non-null  int64         \n",
      " 18  team_a_score       49194 non-null  int64         \n",
      " 19  team_h_score       49194 non-null  int64         \n",
      " 20  threat             49194 non-null  float64       \n",
      " 21  total_points       49194 non-null  int64         \n",
      " 22  transfers_balance  49194 non-null  int64         \n",
      " 23  transfers_in       49194 non-null  int64         \n",
      " 24  transfers_out      49194 non-null  int64         \n",
      " 25  value              49194 non-null  int64         \n",
      " 26  was_home           49194 non-null  bool          \n",
      " 27  yellow_cards       49194 non-null  int64         \n",
      " 28  GW                 49194 non-null  int64         \n",
      " 29  club_name          49194 non-null  object        \n",
      " 30  form               49194 non-null  float64       \n",
      " 31  game_date          49194 non-null  datetime64[ns]\n",
      " 32  game_weather       49194 non-null  int64         \n",
      " 33  start_label        49194 non-null  int64         \n",
      "dtypes: bool(1), datetime64[ns](1), float64(5), int64(24), object(3)\n",
      "memory usage: 12.8+ MB\n"
     ]
    }
   ],
   "source": [
    "# Drop all players with zero playtime.\n",
    "zero_minutes = df_allseasons_final[df_allseasons_final.minutes == 0].index\n",
    "df_allseasons_final.drop(zero_minutes, axis = 0, inplace=True)\n",
    "\n",
    "# Descriptive info.\n",
    "df_allseasons_final.info()"
   ]
  },
  {
   "cell_type": "code",
   "execution_count": 49,
   "metadata": {},
   "outputs": [
    {
     "data": {
      "text/html": [
       "<div>\n",
       "<style scoped>\n",
       "    .dataframe tbody tr th:only-of-type {\n",
       "        vertical-align: middle;\n",
       "    }\n",
       "\n",
       "    .dataframe tbody tr th {\n",
       "        vertical-align: top;\n",
       "    }\n",
       "\n",
       "    .dataframe thead th {\n",
       "        text-align: right;\n",
       "    }\n",
       "</style>\n",
       "<table border=\"1\" class=\"dataframe\">\n",
       "  <thead>\n",
       "    <tr style=\"text-align: right;\">\n",
       "      <th></th>\n",
       "      <th>position</th>\n",
       "      <th>assists</th>\n",
       "      <th>bonus</th>\n",
       "      <th>bps</th>\n",
       "      <th>clean_sheets</th>\n",
       "      <th>creativity</th>\n",
       "      <th>goals_conceded</th>\n",
       "      <th>goals_scored</th>\n",
       "      <th>ict_index</th>\n",
       "      <th>influence</th>\n",
       "      <th>...</th>\n",
       "      <th>transfers_in</th>\n",
       "      <th>transfers_out</th>\n",
       "      <th>value</th>\n",
       "      <th>was_home</th>\n",
       "      <th>yellow_cards</th>\n",
       "      <th>GW</th>\n",
       "      <th>club_name</th>\n",
       "      <th>form</th>\n",
       "      <th>game_weather</th>\n",
       "      <th>start_label</th>\n",
       "    </tr>\n",
       "    <tr>\n",
       "      <th>game_date</th>\n",
       "      <th></th>\n",
       "      <th></th>\n",
       "      <th></th>\n",
       "      <th></th>\n",
       "      <th></th>\n",
       "      <th></th>\n",
       "      <th></th>\n",
       "      <th></th>\n",
       "      <th></th>\n",
       "      <th></th>\n",
       "      <th></th>\n",
       "      <th></th>\n",
       "      <th></th>\n",
       "      <th></th>\n",
       "      <th></th>\n",
       "      <th></th>\n",
       "      <th></th>\n",
       "      <th></th>\n",
       "      <th></th>\n",
       "      <th></th>\n",
       "      <th></th>\n",
       "    </tr>\n",
       "  </thead>\n",
       "  <tbody>\n",
       "    <tr>\n",
       "      <th>2016-08-13 14:00:00</th>\n",
       "      <td>MID</td>\n",
       "      <td>0</td>\n",
       "      <td>0</td>\n",
       "      <td>6</td>\n",
       "      <td>0</td>\n",
       "      <td>0.3</td>\n",
       "      <td>0</td>\n",
       "      <td>0</td>\n",
       "      <td>0.9</td>\n",
       "      <td>8.2</td>\n",
       "      <td>...</td>\n",
       "      <td>0</td>\n",
       "      <td>0</td>\n",
       "      <td>60</td>\n",
       "      <td>True</td>\n",
       "      <td>0</td>\n",
       "      <td>1</td>\n",
       "      <td>EVE</td>\n",
       "      <td>0.578947</td>\n",
       "      <td>3</td>\n",
       "      <td>1</td>\n",
       "    </tr>\n",
       "    <tr>\n",
       "      <th>2016-08-14 15:00:00</th>\n",
       "      <td>MID</td>\n",
       "      <td>0</td>\n",
       "      <td>0</td>\n",
       "      <td>5</td>\n",
       "      <td>0</td>\n",
       "      <td>4.9</td>\n",
       "      <td>3</td>\n",
       "      <td>0</td>\n",
       "      <td>3.0</td>\n",
       "      <td>2.2</td>\n",
       "      <td>...</td>\n",
       "      <td>0</td>\n",
       "      <td>0</td>\n",
       "      <td>80</td>\n",
       "      <td>True</td>\n",
       "      <td>0</td>\n",
       "      <td>1</td>\n",
       "      <td>ARS</td>\n",
       "      <td>1.473684</td>\n",
       "      <td>3</td>\n",
       "      <td>1</td>\n",
       "    </tr>\n",
       "    <tr>\n",
       "      <th>2016-08-13 14:00:00</th>\n",
       "      <td>MID</td>\n",
       "      <td>0</td>\n",
       "      <td>0</td>\n",
       "      <td>3</td>\n",
       "      <td>0</td>\n",
       "      <td>1.3</td>\n",
       "      <td>1</td>\n",
       "      <td>0</td>\n",
       "      <td>0.3</td>\n",
       "      <td>2.0</td>\n",
       "      <td>...</td>\n",
       "      <td>0</td>\n",
       "      <td>0</td>\n",
       "      <td>45</td>\n",
       "      <td>True</td>\n",
       "      <td>1</td>\n",
       "      <td>1</td>\n",
       "      <td>MID</td>\n",
       "      <td>2.026316</td>\n",
       "      <td>3</td>\n",
       "      <td>1</td>\n",
       "    </tr>\n",
       "    <tr>\n",
       "      <th>2016-08-14 15:00:00</th>\n",
       "      <td>MID</td>\n",
       "      <td>1</td>\n",
       "      <td>2</td>\n",
       "      <td>33</td>\n",
       "      <td>0</td>\n",
       "      <td>33.7</td>\n",
       "      <td>3</td>\n",
       "      <td>1</td>\n",
       "      <td>14.2</td>\n",
       "      <td>51.2</td>\n",
       "      <td>...</td>\n",
       "      <td>0</td>\n",
       "      <td>0</td>\n",
       "      <td>70</td>\n",
       "      <td>False</td>\n",
       "      <td>1</td>\n",
       "      <td>1</td>\n",
       "      <td>LIV</td>\n",
       "      <td>3.657895</td>\n",
       "      <td>3</td>\n",
       "      <td>1</td>\n",
       "    </tr>\n",
       "    <tr>\n",
       "      <th>2016-08-15 19:00:00</th>\n",
       "      <td>GK</td>\n",
       "      <td>0</td>\n",
       "      <td>0</td>\n",
       "      <td>16</td>\n",
       "      <td>0</td>\n",
       "      <td>0.0</td>\n",
       "      <td>2</td>\n",
       "      <td>0</td>\n",
       "      <td>3.0</td>\n",
       "      <td>29.8</td>\n",
       "      <td>...</td>\n",
       "      <td>0</td>\n",
       "      <td>0</td>\n",
       "      <td>50</td>\n",
       "      <td>False</td>\n",
       "      <td>0</td>\n",
       "      <td>1</td>\n",
       "      <td>WHU</td>\n",
       "      <td>1.684211</td>\n",
       "      <td>3</td>\n",
       "      <td>1</td>\n",
       "    </tr>\n",
       "  </tbody>\n",
       "</table>\n",
       "<p>5 rows × 33 columns</p>\n",
       "</div>"
      ],
      "text/plain": [
       "                    position  assists  bonus  bps  clean_sheets  creativity  \\\n",
       "game_date                                                                     \n",
       "2016-08-13 14:00:00      MID        0      0    6             0         0.3   \n",
       "2016-08-14 15:00:00      MID        0      0    5             0         4.9   \n",
       "2016-08-13 14:00:00      MID        0      0    3             0         1.3   \n",
       "2016-08-14 15:00:00      MID        1      2   33             0        33.7   \n",
       "2016-08-15 19:00:00       GK        0      0   16             0         0.0   \n",
       "\n",
       "                     goals_conceded  goals_scored  ict_index  influence  ...  \\\n",
       "game_date                                                                ...   \n",
       "2016-08-13 14:00:00               0             0        0.9        8.2  ...   \n",
       "2016-08-14 15:00:00               3             0        3.0        2.2  ...   \n",
       "2016-08-13 14:00:00               1             0        0.3        2.0  ...   \n",
       "2016-08-14 15:00:00               3             1       14.2       51.2  ...   \n",
       "2016-08-15 19:00:00               2             0        3.0       29.8  ...   \n",
       "\n",
       "                     transfers_in transfers_out  value  was_home  \\\n",
       "game_date                                                          \n",
       "2016-08-13 14:00:00             0             0     60      True   \n",
       "2016-08-14 15:00:00             0             0     80      True   \n",
       "2016-08-13 14:00:00             0             0     45      True   \n",
       "2016-08-14 15:00:00             0             0     70     False   \n",
       "2016-08-15 19:00:00             0             0     50     False   \n",
       "\n",
       "                     yellow_cards  GW  club_name      form  game_weather  \\\n",
       "game_date                                                                  \n",
       "2016-08-13 14:00:00             0   1        EVE  0.578947             3   \n",
       "2016-08-14 15:00:00             0   1        ARS  1.473684             3   \n",
       "2016-08-13 14:00:00             1   1        MID  2.026316             3   \n",
       "2016-08-14 15:00:00             1   1        LIV  3.657895             3   \n",
       "2016-08-15 19:00:00             0   1        WHU  1.684211             3   \n",
       "\n",
       "                     start_label  \n",
       "game_date                         \n",
       "2016-08-13 14:00:00            1  \n",
       "2016-08-14 15:00:00            1  \n",
       "2016-08-13 14:00:00            1  \n",
       "2016-08-14 15:00:00            1  \n",
       "2016-08-15 19:00:00            1  \n",
       "\n",
       "[5 rows x 33 columns]"
      ]
     },
     "execution_count": 49,
     "metadata": {},
     "output_type": "execute_result"
    }
   ],
   "source": [
    "# Make season_x the index.\n",
    "df_allseasons_final.set_index('game_date', inplace=True)\n",
    "\n",
    "df_allseasons_final.head()"
   ]
  },
  {
   "cell_type": "markdown",
   "metadata": {},
   "source": [
    "### EXPLORATORY DATA ANALYSIS"
   ]
  },
  {
   "cell_type": "code",
   "execution_count": 83,
   "metadata": {},
   "outputs": [],
   "source": [
    "# Filter for players with point > 0.\n",
    "total_points = df_allseasons_final.query('total_points > 0')['total_points']"
   ]
  },
  {
   "cell_type": "code",
   "execution_count": 84,
   "metadata": {},
   "outputs": [
    {
     "data": {
      "text/plain": [
       "game_date\n",
       "2016-08-13 14:00:00     1\n",
       "2016-08-14 15:00:00     2\n",
       "2016-08-13 14:00:00     1\n",
       "2016-08-14 15:00:00    11\n",
       "2016-08-15 19:00:00     2\n",
       "                       ..\n",
       "2022-05-22 15:00:00     1\n",
       "2022-05-22 15:00:00     1\n",
       "2022-05-22 15:00:00     2\n",
       "2022-05-22 15:00:00     1\n",
       "2022-05-22 15:00:00     2\n",
       "Name: total_points, Length: 46552, dtype: int64"
      ]
     },
     "execution_count": 84,
     "metadata": {},
     "output_type": "execute_result"
    }
   ],
   "source": [
    "total_points"
   ]
  },
  {
   "cell_type": "code",
   "execution_count": 86,
   "metadata": {},
   "outputs": [
    {
     "data": {
      "image/png": "[encoded data removed]",
      "text/plain": [
       "<Figure size 1440x720 with 4 Axes>"
      ]
     },
     "metadata": {
      "needs_background": "light"
     },
     "output_type": "display_data"
    }
   ],
   "source": [
    "# Decomposing the series into its three components namely \"Trend\", \"Seasonality\" and \"Residuals\"\n",
    "decomposed = seasonal_decompose(total_points, period=1, model='multiplicative')\n",
    "trend = decomposed.trend\n",
    "seasonal = decomposed.seasonal\n",
    "residuals = decomposed.resid\n",
    "\n",
    "# Plotting the different components as well as the original series to see how each component is contributing to the series\n",
    "plt.figure(figsize=(20,10))\n",
    "fig = plt.figure(1)\n",
    "fig.suptitle('Different components of the time series')\n",
    "\n",
    "plt.subplot(411)\n",
    "plt.plot(total_points, label='Original')\n",
    "plt.xticks([])\n",
    "plt.legend(loc='best')\n",
    "\n",
    "plt.subplot(412)\n",
    "plt.plot(trend, label='Trend component')\n",
    "plt.xticks([])\n",
    "plt.legend()\n",
    "\n",
    "plt.subplot(413)\n",
    "plt.plot(seasonal, label='Seasonality component')\n",
    "plt.xticks([])\n",
    "plt.legend()\n",
    "\n",
    "plt.subplot(414)\n",
    "plt.plot(residuals, label='Residuals')\n",
    "plt.legend()\n",
    "plt.show()"
   ]
  }
 ],
 "metadata": {
  "kernelspec": {
   "display_name": "Python 3.8.10 ('mlops_dependencies': venv)",
   "language": "python",
   "name": "python3"
  },
  "language_info": {
   "codemirror_mode": {
    "name": "ipython",
    "version": 3
   },
   "file_extension": ".py",
   "mimetype": "text/x-python",
   "name": "python",
   "nbconvert_exporter": "python",
   "pygments_lexer": "ipython3",
   "version": "3.8.10"
  },
  "orig_nbformat": 4,
  "vscode": {
   "interpreter": {
    "hash": "26e8787b8a02139bac276dfac5fe799d914cd696a05cdc773caae16bec2e5e83"
   }
  }
 },
 "nbformat": 4,
 "nbformat_minor": 2
}
